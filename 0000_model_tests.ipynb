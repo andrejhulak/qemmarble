{
 "cells": [
  {
   "cell_type": "code",
   "execution_count": 1,
   "metadata": {},
   "outputs": [],
   "source": [
    "import torch.optim as optim\n",
    "import torch.nn as nn\n",
    "from qiskit.providers.fake_provider import FakeLima\n",
    "from scripts.data_setup import load_data\n",
    "from scripts.from_circ_to_numpy import operations_to_features, save_to_json, load_from_json\n",
    "from scripts.model import create_models, train_and_test_step, save_models, load_models"
   ]
  },
  {
   "cell_type": "code",
   "execution_count": 2,
   "metadata": {},
   "outputs": [],
   "source": [
    "n_qubits = 5 # 5 == n_qubits, default value for now because of FakeLima\n",
    "train_circuits, train_observables, train_ideal_exp_vals, train_noisy_exp_vals, test_circuits, test_observables, test_ideal_exp_vals, test_noisy_exp_vals = load_data('data/circuits/data_small_1')"
   ]
  },
  {
   "cell_type": "code",
   "execution_count": 3,
   "metadata": {},
   "outputs": [],
   "source": [
    "X_train, y_train, X_test, y_test = load_from_json('data/features/data_small_1')"
   ]
  },
  {
   "cell_type": "code",
   "execution_count": 17,
   "metadata": {},
   "outputs": [],
   "source": [
    "# specify these :)\n",
    "sequence_input_size = 7\n",
    "sequence_hidden_size = 8\n",
    "sequence_num_layers = 4\n",
    "sequence_model_type = 'LSTM'\n",
    "sequence_dropout = 0\n",
    "ann_hidden_layers = 2\n",
    "ann_hidden_units = 64\n",
    "ann_dropout = 0\n",
    "noisy_first = True\n",
    "\n",
    "sequence_model, ann = create_models(sequence_input_size, \n",
    "                                    sequence_hidden_size, \n",
    "                                    sequence_num_layers, \n",
    "                                    sequence_model_type, \n",
    "                                    sequence_dropout, \n",
    "                                    ann_hidden_layers, \n",
    "                                    ann_hidden_units, \n",
    "                                    ann_dropout, \n",
    "                                    noisy_first=noisy_first)\n",
    "\n",
    "sequence_config = { \n",
    "    \"input_size\": sequence_input_size,\n",
    "    \"hidden_size\": sequence_hidden_size,\n",
    "    \"num_layers\": sequence_num_layers,\n",
    "    \"model_type\": sequence_model_type,\n",
    "    \"dropout\": sequence_dropout\n",
    "}\n",
    "\n",
    "ann_config = {\n",
    "    \"hidden_layers\": ann_hidden_layers,\n",
    "    \"hidden_units\": ann_hidden_units,\n",
    "    \"dropout\": ann_dropout,\n",
    "    \"noisy_first\": noisy_first\n",
    "}"
   ]
  },
  {
   "cell_type": "code",
   "execution_count": 18,
   "metadata": {},
   "outputs": [
    {
     "data": {
      "application/vnd.jupyter.widget-view+json": {
       "model_id": "62ba7342869140f08166c45495fc4191",
       "version_major": 2,
       "version_minor": 0
      },
      "text/plain": [
       "  0%|          | 0/5 [00:00<?, ?it/s]"
      ]
     },
     "metadata": {},
     "output_type": "display_data"
    },
    {
     "name": "stdout",
     "output_type": "stream",
     "text": [
      "Epoch 1/5, train loss (PyTorch): 0.2592, test_loss (scikitlearn rmse): 0.2208\n",
      "Epoch 2/5, train loss (PyTorch): 0.0738, test_loss (scikitlearn rmse): 0.2001\n",
      "Epoch 3/5, train loss (PyTorch): 0.0619, test_loss (scikitlearn rmse): 0.1957\n",
      "Epoch 4/5, train loss (PyTorch): 0.0563, test_loss (scikitlearn rmse): 0.1935\n",
      "Epoch 5/5, train loss (PyTorch): 0.0549, test_loss (scikitlearn rmse): 0.1932\n"
     ]
    }
   ],
   "source": [
    "loss_fn = nn.MSELoss() # leave for now\n",
    "optimizer = optim.Adam(list(ann.parameters()) + list(sequence_model.parameters()), lr=0.001)\n",
    "\n",
    "num_epochs = 5\n",
    "train_and_test_step(sequence_model, ann, loss_fn, optimizer, X_train, train_noisy_exp_vals, y_train, X_test, test_noisy_exp_vals, y_test, num_epochs, noisy_first=noisy_first)"
   ]
  },
  {
   "cell_type": "code",
   "execution_count": null,
   "metadata": {},
   "outputs": [],
   "source": []
  }
 ],
 "metadata": {
  "kernelspec": {
   "display_name": "Python 3",
   "language": "python",
   "name": "python3"
  },
  "language_info": {
   "codemirror_mode": {
    "name": "ipython",
    "version": 3
   },
   "file_extension": ".py",
   "mimetype": "text/x-python",
   "name": "python",
   "nbconvert_exporter": "python",
   "pygments_lexer": "ipython3",
   "version": "3.11.3"
  }
 },
 "nbformat": 4,
 "nbformat_minor": 2
}
