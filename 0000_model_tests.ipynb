{
 "cells": [
  {
   "cell_type": "code",
   "execution_count": 1,
   "metadata": {},
   "outputs": [],
   "source": [
    "import torch.optim as optim\n",
    "import torch.nn as nn\n",
    "from qiskit.providers.fake_provider import FakeLima\n",
    "from scripts.data_setup import load_data\n",
    "from scripts.from_circ_to_numpy import operations_to_features, save_to_json, load_from_json\n",
    "from scripts.model import create_models, train_and_test_step, save_models, load_models\n",
    "from qiskit import transpile"
   ]
  },
  {
   "cell_type": "code",
   "execution_count": 2,
   "metadata": {},
   "outputs": [],
   "source": [
    "n_qubits = 5 # 5 == n_qubits, default value for now because of FakeLima\n",
    "train_circuits, train_observables, train_ideal_exp_vals, train_noisy_exp_vals, test_circuits, test_observables, test_ideal_exp_vals, test_noisy_exp_vals = load_data('data/circuits/data_small_1')"
   ]
  },
  {
   "cell_type": "code",
   "execution_count": 3,
   "metadata": {},
   "outputs": [],
   "source": [
    "backend = FakeLima()"
   ]
  },
  {
   "cell_type": "code",
   "execution_count": 4,
   "metadata": {},
   "outputs": [],
   "source": [
    "X_train, y_train, X_test, y_test = load_from_json('data/features/data_small_1')"
   ]
  },
  {
   "cell_type": "code",
   "execution_count": 5,
   "metadata": {},
   "outputs": [],
   "source": [
    "# specify these :)\n",
    "sequence_input_size = 7\n",
    "sequence_hidden_size = 7\n",
    "sequence_num_layers = 4\n",
    "sequence_model_type = 'Transformer'\n",
    "sequence_dropout = 0.1\n",
    "ann_hidden_layers = 2\n",
    "ann_hidden_units = 64\n",
    "ann_dropout = 0\n",
    "noisy_first = True\n",
    "\n",
    "sequence_model, ann = create_models(sequence_input_size, \n",
    "                                    sequence_hidden_size, \n",
    "                                    sequence_num_layers, \n",
    "                                    sequence_model_type, \n",
    "                                    sequence_dropout, \n",
    "                                    ann_hidden_layers, \n",
    "                                    ann_hidden_units, \n",
    "                                    ann_dropout, \n",
    "                                    noisy_first=noisy_first)\n",
    "\n",
    "sequence_config = { \n",
    "    \"input_size\": sequence_input_size,\n",
    "    \"hidden_size\": sequence_hidden_size,\n",
    "    \"num_layers\": sequence_num_layers,\n",
    "    \"model_type\": sequence_model_type,\n",
    "    \"dropout\": sequence_dropout\n",
    "}\n",
    "\n",
    "ann_config = {\n",
    "    \"hidden_layers\": ann_hidden_layers,\n",
    "    \"hidden_units\": ann_hidden_units,\n",
    "    \"dropout\": ann_dropout,\n",
    "    \"noisy_first\": noisy_first\n",
    "}"
   ]
  },
  {
   "cell_type": "code",
   "execution_count": 6,
   "metadata": {},
   "outputs": [
    {
     "data": {
      "text/plain": [
       "([1.0797961517216472,\n",
       "  0.40390046776066524,\n",
       "  0.27408067447555173,\n",
       "  0.2580500662422044,\n",
       "  0.24979981884495814],\n",
       " [0.7005515098571777,\n",
       "  0.25552883744239807,\n",
       "  0.24986431002616882,\n",
       "  0.23395299911499023,\n",
       "  0.2347128540277481])"
      ]
     },
     "execution_count": 6,
     "metadata": {},
     "output_type": "execute_result"
    }
   ],
   "source": [
    "loss_fn = nn.MSELoss() # leave for now\n",
    "optimizer = optim.Adam(list(ann.parameters()) + list(sequence_model.parameters()), lr=0.0001)\n",
    "\n",
    "num_epochs = 5\n",
    "train_and_test_step(sequence_model, ann, loss_fn, optimizer, X_train, train_noisy_exp_vals, y_train, X_test, test_noisy_exp_vals, y_test, num_epochs, noisy_first=noisy_first)"
   ]
  },
  {
   "cell_type": "code",
   "execution_count": 7,
   "metadata": {},
   "outputs": [
    {
     "data": {
      "text/plain": [
       "([0.24747123757398956,\n",
       "  0.24334678939166302,\n",
       "  0.23974091625915736,\n",
       "  0.2417121731256755,\n",
       "  0.2367707354194373],\n",
       " [0.23534682393074036,\n",
       "  0.22719328105449677,\n",
       "  0.22534328699111938,\n",
       "  0.23125092685222626,\n",
       "  0.2146570384502411])"
      ]
     },
     "execution_count": 7,
     "metadata": {},
     "output_type": "execute_result"
    }
   ],
   "source": [
    "train_and_test_step(sequence_model, ann, loss_fn, optimizer, X_train, train_noisy_exp_vals, y_train, X_test, test_noisy_exp_vals, y_test, num_epochs, noisy_first=noisy_first)"
   ]
  },
  {
   "cell_type": "code",
   "execution_count": 8,
   "metadata": {},
   "outputs": [
    {
     "data": {
      "text/plain": [
       "([0.23672431824269918,\n",
       "  0.236687750330561,\n",
       "  0.23463549744968648,\n",
       "  0.23091619321445153,\n",
       "  0.23210708818620715],\n",
       " [0.22228321433067322,\n",
       "  0.21652939915657043,\n",
       "  0.21182917058467865,\n",
       "  0.21506023406982422,\n",
       "  0.21360301971435547])"
      ]
     },
     "execution_count": 8,
     "metadata": {},
     "output_type": "execute_result"
    }
   ],
   "source": [
    "train_and_test_step(sequence_model, ann, loss_fn, optimizer, X_train, train_noisy_exp_vals, y_train, X_test, test_noisy_exp_vals, y_test, num_epochs, noisy_first=noisy_first)"
   ]
  },
  {
   "cell_type": "code",
   "execution_count": null,
   "metadata": {},
   "outputs": [],
   "source": []
  }
 ],
 "metadata": {
  "kernelspec": {
   "display_name": "Python 3",
   "language": "python",
   "name": "python3"
  },
  "language_info": {
   "codemirror_mode": {
    "name": "ipython",
    "version": 3
   },
   "file_extension": ".py",
   "mimetype": "text/x-python",
   "name": "python",
   "nbconvert_exporter": "python",
   "pygments_lexer": "ipython3",
   "version": "3.11.3"
  }
 },
 "nbformat": 4,
 "nbformat_minor": 2
}
