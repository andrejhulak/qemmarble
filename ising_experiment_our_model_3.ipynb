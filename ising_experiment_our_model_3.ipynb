{
 "cells": [
  {
   "cell_type": "code",
   "execution_count": 1,
   "metadata": {
    "collapsed": true
   },
   "outputs": [],
   "source": [
    "import json, os, pickle, random\n",
    "import numpy as np\n",
    "from tqdm.notebook import tqdm\n",
    "import pandas as pd\n",
    "\n",
    "import torch\n",
    "from torch.utils.data import Dataset, DataLoader, TensorDataset\n",
    "from torch.optim.lr_scheduler import ReduceLROnPlateau\n",
    "import torch.nn as nn\n",
    "\n",
    "import qiskit\n",
    "from qiskit import QuantumCircuit, execute\n",
    "from qiskit.compiler import transpile\n",
    "from qiskit_aer import AerSimulator, QasmSimulator\n",
    "from qiskit.converters import circuit_to_dag, dag_to_circuit\n",
    "from qiskit.quantum_info import SparsePauliOp, Operator\n",
    "from qiskit.circuit.library import CXGate, RXGate, IGate, ZGate\n",
    "from qiskit.providers.fake_provider import FakeMontreal, FakeLima\n",
    "\n",
    "from scripts.utils import get_backend_properties_v1\n",
    "\n",
    "# from blackwater.data.utils import (\n",
    "#     generate_random_pauli_sum_op,\n",
    "#     create_estimator_meas_data,\n",
    "#     circuit_to_graph_data_json,\n",
    "#     get_backend_properties_v1,\n",
    "#     encode_pauli_sum_op,\n",
    "#     create_meas_data_from_estimators\n",
    "# )\n",
    "\n",
    "from scripts.mlp import MLP1, MLP2, MLP3, encode_data\n",
    "\n",
    "#from mbd_utils import cal_z_exp, generate_disorder, construct_mbl_circuit, calc_imbalance, modify_and_add_noise_to_model\n",
    "\n",
    "import matplotlib.pyplot as plt\n",
    "import seaborn as sns\n",
    "from scripts.noise_utils import AddNoise, RemoveReadoutErrors\n",
    "from scripts.from_circ_to_numpy import operations_to_features\n",
    "from scripts.mlp import recursive_dict_loop, count_gates_by_rotation_angle\n",
    "from scripts.mbd_utils import calc_imbalance"
   ]
  },
  {
   "cell_type": "code",
   "execution_count": 2,
   "metadata": {
    "collapsed": false
   },
   "outputs": [],
   "source": [
    "def fix_random_seed(seed=0):\n",
    "    random.seed(seed)\n",
    "    os.environ['PYTHONHASHSEED'] = str(seed)\n",
    "    np.random.seed(seed)\n",
    "    torch.manual_seed(seed)\n",
    "    torch.cuda.manual_seed(seed)\n",
    "    torch.cuda.manual_seed_all(seed)  # if you are using multi-GPU.\n",
    "    torch.backends.cudnn.benchmark = False\n",
    "    torch.backends.cudnn.deterministic = True\n",
    "    print(f'random seed fixed to {seed}')"
   ]
  },
  {
   "cell_type": "code",
   "execution_count": 3,
   "metadata": {
    "collapsed": false
   },
   "outputs": [],
   "source": [
    "backend = FakeLima()\n",
    "properties = get_backend_properties_v1(backend)\n",
    "\n",
    "## Local\n",
    "backend_ideal = QasmSimulator() # Noiseless\n",
    "backend_noisy = AerSimulator.from_backend(FakeLima()) # Noisy\n",
    "\n",
    "run_config_ideal = {'shots': 10000, 'backend': backend_ideal, 'name': 'ideal'}\n",
    "run_config_noisy = {'shots': 10000, 'backend': backend_noisy, 'name': 'noisy'}"
   ]
  },
  {
   "cell_type": "code",
   "execution_count": 4,
   "metadata": {
    "collapsed": false
   },
   "outputs": [
    {
     "name": "stdout",
     "output_type": "stream",
     "text": [
      "random seed fixed to 0\n",
      "thetas [0.06896594 0.08987335 0.07574548 0.06847204 0.05323803 0.08116545\n",
      " 0.05498883 0.1120635 ]\n"
     ]
    }
   ],
   "source": [
    "backend = FakeLima()\n",
    "properties = get_backend_properties_v1(backend)\n",
    "\n",
    "# Local, coherent noise\n",
    "backend_ideal = QasmSimulator() # Noiseless\n",
    "backend_noisy_coherent, noise_model = AddNoise(backend=backend).add_coherent_noise(seed=0, theta=np.pi * 0.04, uniform=False, add_depolarization=True)\n",
    "\n",
    "run_config_ideal = {'shots': 10000, 'backend': backend_ideal, 'name': 'ideal'}\n",
    "run_config_noisy_coherent = {'shots': 10000, 'backend': backend_noisy_coherent, 'name': 'noisy_coherent'}"
   ]
  },
  {
   "cell_type": "code",
   "execution_count": 5,
   "metadata": {
    "collapsed": false
   },
   "outputs": [],
   "source": [
    "backend = FakeLima()\n",
    "properties = get_backend_properties_v1(backend)\n",
    "\n",
    "# Local, coherent noise\n",
    "backend_ideal = QasmSimulator() # Noiseless\n",
    "backend_noisy_no_readout = RemoveReadoutErrors().remove_readout_errors()[0]\n",
    "\n",
    "run_config_ideal = {'shots': 10000, 'backend': backend_ideal, 'name': 'ideal'}\n",
    "\n",
    "# no measurement errors \n",
    "run_config_noisy_no_readout = {'shots': 10000, 'backend': backend_noisy_no_readout, 'name': 'noisy_no_readout'}\n",
    "\n",
    "num_qubit = 4"
   ]
  },
  {
   "cell_type": "markdown",
   "metadata": {},
   "source": [
    "`load_circuits` loads the quantum circuit objects from the .pk files."
   ]
  },
  {
   "cell_type": "code",
   "execution_count": 6,
   "metadata": {
    "collapsed": false
   },
   "outputs": [],
   "source": [
    "def load_circuits(data_dir, f_ext='.json'):\n",
    "    circuits = []\n",
    "    ideal_exp_vals = []\n",
    "    noisy_exp_vals = []\n",
    "    data_files = [os.path.join(data_dir, f) for f in os.listdir(data_dir) if f.endswith(f_ext)]\n",
    "    for data_file in tqdm(data_files[1:], leave=True):\n",
    "        #print(data_file)\n",
    "        if f_ext == '.json':\n",
    "            for entry in json.load(open(data_file, 'r')):\n",
    "                circuits.append(QuantumCircuit.from_qasm_str(entry['circuit']))\n",
    "                ideal_exp_vals.append(entry['ideal_exp_value'])\n",
    "                noisy_exp_vals.append(entry['noisy_exp_values'])\n",
    "        elif f_ext == '.pk':\n",
    "            for entry in pickle.load(open(data_file, 'rb')):\n",
    "                circuits.append(entry['circuit'])\n",
    "                ideal_exp_vals.append(entry['ideal_exp_value'])\n",
    "                noisy_exp_vals.append(entry['noisy_exp_values'])\n",
    "    return circuits, ideal_exp_vals, noisy_exp_vals"
   ]
  },
  {
   "cell_type": "code",
   "execution_count": 7,
   "metadata": {
    "collapsed": false
   },
   "outputs": [
    {
     "data": {
      "application/vnd.jupyter.widget-view+json": {
       "model_id": "76905b21e1e34603be5db0a4d5c7297f",
       "version_major": 2,
       "version_minor": 0
      },
      "text/plain": [
       "  0%|          | 0/14 [00:00<?, ?it/s]"
      ]
     },
     "metadata": {},
     "output_type": "display_data"
    },
    {
     "name": "stdout",
     "output_type": "stream",
     "text": [
      "4200\n"
     ]
    },
    {
     "data": {
      "application/vnd.jupyter.widget-view+json": {
       "model_id": "f5dfa05c1ac24ff79872587f8e021e8d",
       "version_major": 2,
       "version_minor": 0
      },
      "text/plain": [
       "  0%|          | 0/14 [00:00<?, ?it/s]"
      ]
     },
     "metadata": {},
     "output_type": "display_data"
    },
    {
     "name": "stdout",
     "output_type": "stream",
     "text": [
      "1400\n"
     ]
    }
   ],
   "source": [
    "train_circuits, train_ideal_exp_vals, train_noisy_exp_vals_input = load_circuits('./data/ising_init_from_qasm_no_readout/train/', '.pk')\n",
    "print(len(train_circuits))\n",
    "\n",
    "test_circuits, test_ideal_exp_vals, test_noisy_exp_vals_input = load_circuits('./data/ising_init_from_qasm_no_readout/val/', '.pk')\n",
    "print(len(test_circuits))"
   ]
  },
  {
   "cell_type": "code",
   "execution_count": 8,
   "metadata": {
    "collapsed": false
   },
   "outputs": [],
   "source": [
    "train_noisy_exp_vals = [x[0] for x in train_noisy_exp_vals_input]\n",
    "test_noisy_exp_vals = [x[0] for x in test_noisy_exp_vals_input]\n",
    "\n",
    "X_train, y_train = operations_to_features(train_circuits, train_ideal_exp_vals, n_qubits=5, backend=backend)\n",
    "X_test, y_test = operations_to_features(test_circuits, test_ideal_exp_vals, n_qubits=5, backend=backend)"
   ]
  },
  {
   "cell_type": "code",
   "execution_count": 14,
   "metadata": {},
   "outputs": [],
   "source": [
    "from scripts.model import *\n",
    "import torch\n",
    "import torch.nn as nn\n",
    "import torch.optim as optim\n",
    "import numpy as np\n",
    "from tqdm.auto import tqdm\n",
    "import json, os\n",
    "\n",
    "\n",
    "sequence_input_size = 7\n",
    "sequence_hidden_size = 200\n",
    "sequence_num_layers = 2\n",
    "sequence_model_type = 'LSTM'\n",
    "sequence_dropout = 0.05\n",
    "ann_hidden_layers = 2\n",
    "ann_hidden_units = 64\n",
    "ann_dropout = 0\n",
    "noisy_first = True\n",
    "\n",
    "num_epochs = 3"
   ]
  },
  {
   "cell_type": "code",
   "execution_count": 15,
   "metadata": {},
   "outputs": [],
   "source": [
    "y_training = []\n",
    "for y in range(4):\n",
    "    temp = []\n",
    "    for i in range(len(y_train)):\n",
    "        temp.append(y_train[i][y])\n",
    "    y_training.append(temp)\n",
    "\n",
    "y_training = torch.tensor(y_training)"
   ]
  },
  {
   "cell_type": "code",
   "execution_count": 16,
   "metadata": {},
   "outputs": [],
   "source": [
    "y_testing = []\n",
    "for y in range(4):\n",
    "    temp = []\n",
    "    for i in range(len(y_test)):\n",
    "        temp.append(y_test[i][y])\n",
    "    y_testing.append(temp)\n",
    "\n",
    "y_testing = torch.tensor(y_testing)"
   ]
  },
  {
   "cell_type": "code",
   "execution_count": 17,
   "metadata": {},
   "outputs": [
    {
     "name": "stderr",
     "output_type": "stream",
     "text": [
      "C:\\Users\\andre\\AppData\\Local\\Temp\\ipykernel_23020\\653568998.py:1: UserWarning: To copy construct from a tensor, it is recommended to use sourceTensor.clone().detach() or sourceTensor.clone().detach().requires_grad_(True), rather than torch.tensor(sourceTensor).\n",
      "  train_noisy_exp_vals = torch.tensor(train_noisy_exp_vals)\n",
      "C:\\Users\\andre\\AppData\\Local\\Temp\\ipykernel_23020\\653568998.py:2: UserWarning: To copy construct from a tensor, it is recommended to use sourceTensor.clone().detach() or sourceTensor.clone().detach().requires_grad_(True), rather than torch.tensor(sourceTensor).\n",
      "  test_noisy_exp_vals = torch.tensor(test_noisy_exp_vals)\n"
     ]
    }
   ],
   "source": [
    "train_noisy_exp_vals = torch.tensor(train_noisy_exp_vals)\n",
    "test_noisy_exp_vals = torch.tensor(test_noisy_exp_vals)"
   ]
  },
  {
   "cell_type": "code",
   "execution_count": 18,
   "metadata": {
    "collapsed": false
   },
   "outputs": [
    {
     "name": "stdout",
     "output_type": "stream",
     "text": [
      "Epoch 1/3, train loss (PyTorch): 0.1788, test_loss (scikitlearn rmse): 0.1631\n",
      "Epoch 2/3, train loss (PyTorch): 0.1014, test_loss (scikitlearn rmse): 0.0467\n",
      "Epoch 3/3, train loss (PyTorch): 0.0477, test_loss (scikitlearn rmse): 0.0409\n",
      "Epoch 1/3, train loss (PyTorch): 0.1204, test_loss (scikitlearn rmse): 0.0488\n",
      "Epoch 2/3, train loss (PyTorch): 0.0404, test_loss (scikitlearn rmse): 0.0360\n",
      "Epoch 3/3, train loss (PyTorch): 0.0370, test_loss (scikitlearn rmse): 0.0335\n",
      "Epoch 1/3, train loss (PyTorch): 0.2488, test_loss (scikitlearn rmse): 0.0854\n",
      "Epoch 2/3, train loss (PyTorch): 0.0683, test_loss (scikitlearn rmse): 0.0730\n",
      "Epoch 3/3, train loss (PyTorch): 0.0564, test_loss (scikitlearn rmse): 0.0485\n",
      "Epoch 1/3, train loss (PyTorch): 0.0869, test_loss (scikitlearn rmse): 0.0741\n",
      "Epoch 2/3, train loss (PyTorch): 0.0755, test_loss (scikitlearn rmse): 0.0712\n",
      "Epoch 3/3, train loss (PyTorch): 0.0615, test_loss (scikitlearn rmse): 0.0414\n"
     ]
    }
   ],
   "source": [
    "model_list = []\n",
    "for q in range(4):\n",
    "    sequence_model, ann = create_models(sequence_input_size, \n",
    "                                        sequence_hidden_size, \n",
    "                                        sequence_num_layers, \n",
    "                                        sequence_model_type, \n",
    "                                        sequence_dropout, \n",
    "                                        ann_hidden_layers, \n",
    "                                        ann_hidden_units, \n",
    "                                        ann_dropout, \n",
    "                                        noisy_first=noisy_first)\n",
    "    loss_fn = nn.MSELoss() # leave for now\n",
    "    optimizer = optim.Adam(list(ann.parameters()) + list(sequence_model.parameters()), lr=0.001)  \n",
    "\n",
    "    train_losses, test_losses = train_and_test_step(sequence_model, ann, loss_fn, optimizer, X_train, train_noisy_exp_vals[:, q], y_training[q], X_test, test_noisy_exp_vals[:, q], y_testing[q], num_epochs, noisy_first=noisy_first)\n",
    "\n",
    "    model_list.append((sequence_model, ann))"
   ]
  },
  {
   "cell_type": "code",
   "execution_count": 19,
   "metadata": {},
   "outputs": [],
   "source": [
    "y_test_tensor_proper = torch.ones(test_noisy_exp_vals.shape)\n",
    "for i in range(len(y_test_tensor_proper)):\n",
    "    for y in range(len(y_test_tensor_proper[0])):\n",
    "        y_test_tensor_proper[i][y] = y_test[i][y]"
   ]
  },
  {
   "cell_type": "code",
   "execution_count": 20,
   "metadata": {
    "collapsed": false
   },
   "outputs": [
    {
     "name": "stdout",
     "output_type": "stream",
     "text": [
      "random seed fixed to 0\n",
      "RMSE_noisy_0: 0.06550247099813064\n",
      "RMSE_mitigated_0: 0.040942686117719444\n",
      "RMSE_noisy_1: 0.05991942535795197\n",
      "RMSE_mitigated_1: 0.033525688240975626\n",
      "RMSE_noisy_2: 0.1703969244030019\n",
      "RMSE_mitigated_2: 0.04854230784998759\n",
      "RMSE_noisy_3: 0.06290111600237397\n",
      "RMSE_mitigated_3: 0.04142992274526647\n",
      "RMSE_noisy: 0.101084832544792\n",
      "RMSE_mitigated: 0.04145198869972014\n"
     ]
    },
    {
     "data": {
      "image/png": "[encoded data removed]",
      "text/plain": [
       "<Figure size 640x480 with 1 Axes>"
      ]
     },
     "metadata": {},
     "output_type": "display_data"
    },
    {
     "data": {
      "image/png": "[encoded data removed]",
      "text/plain": [
       "<Figure size 640x480 with 1 Axes>"
      ]
     },
     "metadata": {},
     "output_type": "display_data"
    }
   ],
   "source": [
    "fix_random_seed(0)\n",
    "\n",
    "distances = []\n",
    "\n",
    "num_spins = 4\n",
    "even_qubits = np.linspace(0, num_spins, int(num_spins/2), endpoint=False)\n",
    "odd_qubits = np.linspace(1, num_spins+1, int(num_spins/2), endpoint=False)\n",
    "\n",
    "out = []\n",
    "for q, model in enumerate(model_list):\n",
    "    sequence_model = model[0]\n",
    "    ann = model[1]\n",
    "    model_output = []\n",
    "    for i in range(len(X_test)):\n",
    "        model_output.append(float(run_models(sequence_model, ann, X_test[i], test_noisy_exp_vals[i][q], noisy_first).detach().cpu().numpy()))\n",
    "    out.append(model_output)\n",
    "out = np.array(out).transpose()\n",
    "# out = rfr.predict(batch_X[:, -4:])\n",
    "\n",
    "for ideal, noisy, ngm_mitigated in zip(\n",
    "    y_test_tensor_proper.tolist(),\n",
    "    test_noisy_exp_vals.tolist(),\n",
    "    out.tolist()\n",
    "):\n",
    "    imbalance_ideal = calc_imbalance([ideal], even_qubits, odd_qubits)[0]\n",
    "    imbalance_noisy = calc_imbalance([noisy], even_qubits, odd_qubits)[0]\n",
    "    imbalance_mitigated = calc_imbalance([ngm_mitigated], even_qubits, odd_qubits)[0]\n",
    "    for q in range(4):\n",
    "        ideal_q = ideal[q]\n",
    "        noisy_q = noisy[q]\n",
    "        ngm_mitigated_q = ngm_mitigated[q]\n",
    "        distances.append({\n",
    "            f\"ideal_{q}\": ideal_q,\n",
    "            f\"noisy_{q}\": noisy_q,\n",
    "            f\"ngm_mitigated_{q}\": ngm_mitigated_q,\n",
    "            f\"dist_noisy_{q}\": np.abs(ideal_q - noisy_q),\n",
    "            f\"dist_mitigated_{q}\": np.abs(ideal_q - ngm_mitigated_q),\n",
    "            f\"dist_sq_noisy_{q}\": np.square(ideal_q - noisy_q),\n",
    "            f\"dist_sq_mitigated_{q}\": np.square(ideal_q - ngm_mitigated_q),\n",
    "            \"imb_ideal\": imbalance_ideal,\n",
    "            \"imb_noisy\": imbalance_noisy,\n",
    "            \"imb_ngm\": imbalance_mitigated,\n",
    "            \"imb_diff\": imbalance_ideal - imbalance_mitigated\n",
    "        })\n",
    "\n",
    "plt.style.use({'figure.facecolor':'white'})\n",
    "\n",
    "df = pd.DataFrame(distances)\n",
    "\n",
    "for q in range(4):\n",
    "    print(f'RMSE_noisy_{q}:', np.sqrt(df[f\"dist_sq_noisy_{q}\"].mean()))\n",
    "    print(f'RMSE_mitigated_{q}:', np.sqrt(df[f\"dist_sq_mitigated_{q}\"].mean()))\n",
    "\n",
    "print(f'RMSE_noisy:', np.sqrt(np.mean([df[f\"dist_sq_noisy_{q}\"].mean() for q in range(4)])))\n",
    "print(f'RMSE_mitigated:', np.sqrt(np.mean([df[f\"dist_sq_mitigated_{q}\"].mean() for q in range(4)])))\n",
    "\n",
    "sns.boxplot(data=df[[\"dist_noisy_0\", \"dist_mitigated_0\", \"dist_noisy_1\", \"dist_mitigated_1\", \"dist_noisy_2\", \"dist_mitigated_2\", \"dist_noisy_3\", \"dist_mitigated_3\"]], orient=\"h\", showfliers = False)\n",
    "plt.title(\"Dist to ideal exp value\")\n",
    "plt.show()\n",
    "\n",
    "sns.histplot([df['ideal_0'], df['noisy_0'], df[\"ngm_mitigated_0\"]], kde=True, bins=40)\n",
    "plt.title(\"Exp values distribution\")\n",
    "plt.show()"
   ]
  },
  {
   "cell_type": "code",
   "execution_count": null,
   "metadata": {},
   "outputs": [],
   "source": []
  },
  {
   "cell_type": "code",
   "execution_count": null,
   "metadata": {},
   "outputs": [],
   "source": []
  }
 ],
 "metadata": {
  "kernelspec": {
   "display_name": "Python 3",
   "language": "python",
   "name": "python3"
  },
  "language_info": {
   "codemirror_mode": {
    "name": "ipython",
    "version": 3
   },
   "file_extension": ".py",
   "mimetype": "text/x-python",
   "name": "python",
   "nbconvert_exporter": "python",
   "pygments_lexer": "ipython3",
   "version": "3.11.3"
  }
 },
 "nbformat": 4,
 "nbformat_minor": 0
}
