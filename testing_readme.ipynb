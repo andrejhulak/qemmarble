{
 "cells": [
  {
   "cell_type": "code",
   "execution_count": 8,
   "metadata": {},
   "outputs": [],
   "source": [
    "import torch.optim as optim\n",
    "import torch.nn as nn\n",
    "from qiskit.providers.fake_provider import FakeLima\n",
    "from scripts.data_setup import load_data\n",
    "from scripts.from_circ_to_numpy import operations_to_features\n",
    "from scripts.model import create_models, train_and_test_step"
   ]
  },
  {
   "cell_type": "code",
   "execution_count": 9,
   "metadata": {},
   "outputs": [
    {
     "name": "stdout",
     "output_type": "stream",
     "text": [
      "Data loaded successfully!\n"
     ]
    }
   ],
   "source": [
    "n_qubits = 5 # 5 == n_qubits, default value for now because of FakeLima\n",
    "train_circuits, train_ideal_exp_vals, train_noisy_exp_vals, test_circuits, test_ideal_exp_vals, test_noisy_exp_vals = load_data('data/data_test')"
   ]
  },
  {
   "cell_type": "code",
   "execution_count": 10,
   "metadata": {},
   "outputs": [],
   "source": [
    "backend = FakeLima()\n",
    "X_train, y_train = operations_to_features(train_circuits, train_ideal_exp_vals, 5, backend)\n",
    "X_test, y_test = operations_to_features(test_circuits, test_ideal_exp_vals, 5, backend)"
   ]
  },
  {
   "cell_type": "code",
   "execution_count": 11,
   "metadata": {},
   "outputs": [],
   "source": [
    "# specify these :)\n",
    "sequence_input_size = 7\n",
    "sequence_hidden_size = 8\n",
    "sequence_num_layers = 4\n",
    "sequence_model_type = 'LSTM'\n",
    "sequence_dropout = 0.1\n",
    "ann_hiden_layers = 2\n",
    "ann_hidden_units = 64\n",
    "ann_dropout = 0.1\n",
    "\n",
    "sequence_model, ann = create_models(sequence_input_size, sequence_hidden_size, sequence_num_layers, sequence_model_type, sequence_dropout, ann_hiden_layers, ann_hidden_units, ann_dropout)"
   ]
  },
  {
   "cell_type": "code",
   "execution_count": 12,
   "metadata": {},
   "outputs": [
    {
     "data": {
      "application/vnd.jupyter.widget-view+json": {
       "model_id": "cee5c13647624edf8f82c241b6d92224",
       "version_major": 2,
       "version_minor": 0
      },
      "text/plain": [
       "  0%|          | 0/5 [00:00<?, ?it/s]"
      ]
     },
     "metadata": {},
     "output_type": "display_data"
    },
    {
     "name": "stdout",
     "output_type": "stream",
     "text": [
      "Epoch 1/5, train loss: 1.1509, test_loss: 1.7663\n",
      "Epoch 2/5, train loss: 1.1418, test_loss: 1.7661\n",
      "Epoch 3/5, train loss: 1.1451, test_loss: 1.7659\n",
      "Epoch 4/5, train loss: 1.1402, test_loss: 1.7656\n",
      "Epoch 5/5, train loss: 1.1412, test_loss: 1.7654\n"
     ]
    }
   ],
   "source": [
    "loss_fn = nn.MSELoss() # leave for now\n",
    "optimizer = optim.Adam(list(ann.parameters()) + list(sequence_model.parameters()), lr=0.0001)\n",
    "\n",
    "num_epochs = 5\n",
    "train_and_test_step(sequence_model, ann, loss_fn, optimizer, X_train, train_noisy_exp_vals, y_train, X_test, test_noisy_exp_vals, y_test, num_epochs)"
   ]
  }
 ],
 "metadata": {
  "kernelspec": {
   "display_name": "Python 3",
   "language": "python",
   "name": "python3"
  },
  "language_info": {
   "codemirror_mode": {
    "name": "ipython",
    "version": 3
   },
   "file_extension": ".py",
   "mimetype": "text/x-python",
   "name": "python",
   "nbconvert_exporter": "python",
   "pygments_lexer": "ipython3",
   "version": "3.11.3"
  }
 },
 "nbformat": 4,
 "nbformat_minor": 2
}
