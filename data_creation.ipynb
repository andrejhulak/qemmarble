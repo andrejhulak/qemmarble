{
 "cells": [
  {
   "cell_type": "code",
   "execution_count": 25,
   "metadata": {},
   "outputs": [],
   "source": [
    "from scripts.data_setup import create_and_save_data, load_data\n",
    "from qiskit.providers.fake_provider import FakeLima\n",
    "import random\n",
    "from qiskit.circuit.random import random_circuit\n",
    "from utils import generate_random_pauli_sum_op\n",
    "from utils import create_estimator_meas_data\n",
    "import pickle, random\n",
    "from qiskit.providers.fake_provider import FakeLima\n",
    "from qiskit.compiler import transpile"
   ]
  },
  {
   "cell_type": "code",
   "execution_count": 2,
   "metadata": {},
   "outputs": [],
   "source": [
    "n_qubits = 5\n",
    "circ_depth = 20\n",
    "pauli_terms = 10\n",
    "n_train_circs = 100\n",
    "n_test_circs = 1\n",
    "file_name = 'data/circuits/data_uniform_test'"
   ]
  },
  {
   "cell_type": "code",
   "execution_count": 3,
   "metadata": {},
   "outputs": [],
   "source": [
    "for i in range(1):\n",
    "    create_and_save_data(n_qubits=n_qubits,\n",
    "                        circ_depth=circ_depth,\n",
    "                        pauli_terms=pauli_terms,\n",
    "                        n_train_circs=n_train_circs,\n",
    "                        n_test_circs=n_test_circs,\n",
    "                        file_name=f'{file_name}_{i + 1}')"
   ]
  },
  {
   "cell_type": "code",
   "execution_count": 4,
   "metadata": {},
   "outputs": [],
   "source": [
    "from scripts.from_circ_to_numpy import operations_to_features, save_to_json"
   ]
  },
  {
   "cell_type": "code",
   "execution_count": 13,
   "metadata": {},
   "outputs": [],
   "source": [
    "# n_qubits = 5 # 5 == n_qubits, default value for now because of FakeLima\n",
    "# train_circuits, train_observables, train_ideal_exp_vals, train_noisy_exp_vals, test_circuits, test_observables, test_ideal_exp_vals, test_noisy_exp_vals = load_data('data/circuits/data_small_1')"
   ]
  },
  {
   "cell_type": "code",
   "execution_count": 6,
   "metadata": {},
   "outputs": [],
   "source": [
    "# from qiskit.providers.fake_provider import FakeMontreal, FakeLima\n",
    "# backend = FakeLima()"
   ]
  },
  {
   "cell_type": "code",
   "execution_count": 7,
   "metadata": {},
   "outputs": [],
   "source": [
    "# X_train, y_train = operations_to_features(circuits=train_circuits,\n",
    "#                                           true_exp_vals=train_ideal_exp_vals,\n",
    "#                                           n_qubits=n_qubits,\n",
    "#                                           backend=backend)"
   ]
  },
  {
   "cell_type": "code",
   "execution_count": 8,
   "metadata": {},
   "outputs": [],
   "source": [
    "# X_test, y_test = operations_to_features(circuits=test_circuits,\n",
    "#                                           true_exp_vals=test_ideal_exp_vals,\n",
    "#                                           n_qubits=n_qubits,\n",
    "#                                           backend=backend)"
   ]
  },
  {
   "cell_type": "code",
   "execution_count": 9,
   "metadata": {},
   "outputs": [],
   "source": [
    "# save_to_json(X_train, y_train, X_test, y_test, 'data/features/data_small_1')"
   ]
  }
 ],
 "metadata": {
  "kernelspec": {
   "display_name": "Python 3",
   "language": "python",
   "name": "python3"
  },
  "language_info": {
   "codemirror_mode": {
    "name": "ipython",
    "version": 3
   },
   "file_extension": ".py",
   "mimetype": "text/x-python",
   "name": "python",
   "nbconvert_exporter": "python",
   "pygments_lexer": "ipython3",
   "version": "3.11.3"
  }
 },
 "nbformat": 4,
 "nbformat_minor": 2
}
