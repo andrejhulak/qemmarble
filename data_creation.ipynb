{
 "cells": [
  {
   "cell_type": "code",
   "execution_count": 1,
   "metadata": {},
   "outputs": [],
   "source": [
    "from scripts.data_setup import create_and_save_data, load_data"
   ]
  },
  {
   "cell_type": "code",
   "execution_count": 2,
   "metadata": {},
   "outputs": [],
   "source": [
    "n_qubits = 5\n",
    "circ_depth = 20\n",
    "pauli_terms = 10\n",
    "n_train_circs = 2\n",
    "n_test_circs = 1\n",
    "file_name = 'test'"
   ]
  },
  {
   "cell_type": "code",
   "execution_count": 3,
   "metadata": {},
   "outputs": [
    {
     "name": "stdout",
     "output_type": "stream",
     "text": [
      "Data created successfully!\n",
      "Data created successfully!\n",
      "Data saved successfully!\n",
      "Successfully created 2 training circuits with noisy and ideal exp. vals!\n",
      "Successfully created 1 testing circuits with noisy and ideal exp. vals!\n"
     ]
    }
   ],
   "source": [
    "create_and_save_data(n_qubits=n_qubits,\n",
    "                     circ_depth=circ_depth,\n",
    "                     pauli_terms=pauli_terms,\n",
    "                     n_train_circs=n_train_circs,\n",
    "                     n_test_circs=n_test_circs,\n",
    "                     file_name=file_name)"
   ]
  },
  {
   "cell_type": "code",
   "execution_count": 4,
   "metadata": {},
   "outputs": [
    {
     "name": "stdout",
     "output_type": "stream",
     "text": [
      "Data loaded successfully!\n"
     ]
    },
    {
     "data": {
      "text/plain": [
       "([<qiskit.circuit.quantumcircuit.QuantumCircuit at 0x21723fa67d0>,\n",
       "  <qiskit.circuit.quantumcircuit.QuantumCircuit at 0x2172423a690>],\n",
       " [-0.302734375, -0.720703125],\n",
       " [-0.068359375, -0.123046875],\n",
       " [<qiskit.circuit.quantumcircuit.QuantumCircuit at 0x21723f19c10>],\n",
       " [0.57421875],\n",
       " [0.876953125])"
      ]
     },
     "execution_count": 4,
     "metadata": {},
     "output_type": "execute_result"
    }
   ],
   "source": [
    "load_data('test')"
   ]
  },
  {
   "cell_type": "code",
   "execution_count": null,
   "metadata": {},
   "outputs": [],
   "source": []
  }
 ],
 "metadata": {
  "kernelspec": {
   "display_name": "Python 3",
   "language": "python",
   "name": "python3"
  },
  "language_info": {
   "codemirror_mode": {
    "name": "ipython",
    "version": 3
   },
   "file_extension": ".py",
   "mimetype": "text/x-python",
   "name": "python",
   "nbconvert_exporter": "python",
   "pygments_lexer": "ipython3",
   "version": "3.11.3"
  }
 },
 "nbformat": 4,
 "nbformat_minor": 2
}
