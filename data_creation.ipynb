{
 "cells": [
  {
   "cell_type": "code",
   "execution_count": 13,
   "metadata": {},
   "outputs": [],
   "source": [
    "from scripts.data_setup import create_and_save_data, load_data"
   ]
  },
  {
   "cell_type": "code",
   "execution_count": 14,
   "metadata": {},
   "outputs": [],
   "source": [
    "n_qubits = 5\n",
    "circ_depth = 20\n",
    "pauli_terms = 10\n",
    "n_train_circs = 5000\n",
    "n_test_circs = 1000\n",
    "file_name = 'data/data_1'"
   ]
  },
  {
   "cell_type": "code",
   "execution_count": 15,
   "metadata": {},
   "outputs": [
    {
     "name": "stdout",
     "output_type": "stream",
     "text": [
      "Data created successfully!\n",
      "Data created successfully!\n",
      "Data saved successfully!\n",
      "Successfully created 5000 training circuits with noisy and ideal exp. vals!\n",
      "Successfully created 1000 testing circuits with noisy and ideal exp. vals!\n",
      "Data created successfully!\n",
      "Data created successfully!\n",
      "Data saved successfully!\n",
      "Successfully created 5000 training circuits with noisy and ideal exp. vals!\n",
      "Successfully created 1000 testing circuits with noisy and ideal exp. vals!\n",
      "Data created successfully!\n",
      "Data created successfully!\n",
      "Data saved successfully!\n",
      "Successfully created 5000 training circuits with noisy and ideal exp. vals!\n",
      "Successfully created 1000 testing circuits with noisy and ideal exp. vals!\n"
     ]
    }
   ],
   "source": [
    "for i in range(3):\n",
    "    create_and_save_data(n_qubits=n_qubits,\n",
    "                        circ_depth=circ_depth,\n",
    "                        pauli_terms=pauli_terms,\n",
    "                        n_train_circs=n_train_circs,\n",
    "                        n_test_circs=n_test_circs,\n",
    "                        file_name=f'{file_name}_{i}')"
   ]
  }
 ],
 "metadata": {
  "kernelspec": {
   "display_name": "Python 3",
   "language": "python",
   "name": "python3"
  },
  "language_info": {
   "codemirror_mode": {
    "name": "ipython",
    "version": 3
   },
   "file_extension": ".py",
   "mimetype": "text/x-python",
   "name": "python",
   "nbconvert_exporter": "python",
   "pygments_lexer": "ipython3",
   "version": "3.11.3"
  }
 },
 "nbformat": 4,
 "nbformat_minor": 2
}
