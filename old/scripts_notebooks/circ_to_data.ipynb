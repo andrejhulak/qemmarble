{
 "cells": [
  {
   "cell_type": "code",
   "execution_count": 1,
   "metadata": {},
   "outputs": [
    {
     "name": "stdout",
     "output_type": "stream",
     "text": [
      "Writing scripts/from_circ_to_numpy.py\n"
     ]
    }
   ],
   "source": [
    "%%writefile scripts/from_circ_to_numpy.py\n",
    "from qiskit.compiler import transpile\n",
    "from utils import get_backend_properties_v1\n",
    "from scripts.gate_dict_script import gate_dict_method\n",
    "\n",
    "def get_qc_operations(qc, backend):\n",
    "    qc = transpile(circuits=qc, \n",
    "               backend=backend, \n",
    "               optimization_level=0)\n",
    "    operations = []\n",
    "    for operation in qc.data:\n",
    "        operations.append(operation)\n",
    "    return operations\n",
    "\n",
    "# each word is -> gatetype, params, t1, t2, readout_error, gate_error, gate_length\n",
    "\n",
    "def operations_to_features(circuits, true_exp_vals, n_qubits, backend):\n",
    "    gate_dict = gate_dict_method()\n",
    "    backend_properties = get_backend_properties_v1(backend)\n",
    "    X = []\n",
    "    i = 0\n",
    "    for qc in circuits:\n",
    "        #dag_circuit = circuit_to_dag(qc)\n",
    "        circuit_instructions = get_qc_operations(qc, backend)\n",
    "        # CircuitInstruction(operation=Instruction(name='rz', num_qu .... :)))))))\n",
    "        features = []\n",
    "        for i in range(n_qubits):\n",
    "            features.append([])\n",
    "        # qubit errors \n",
    "        for qubit_index in range(n_qubits):\n",
    "            t1 = backend_properties['qubits_props'][qubit_index]['t1']\n",
    "            t2 = backend_properties['qubits_props'][qubit_index]['t2']\n",
    "            readout_error = backend_properties['qubits_props'][qubit_index]['readout_error']\n",
    "            features[qubit_index].append([0, 0, t1, t2, readout_error, 0, 0])\n",
    "        for circuit_instruction in circuit_instructions:\n",
    "            gate_instruction = circuit_instruction.operation # the quantum gate applied to a qubit/qubits\n",
    "            op_name = gate_instruction.name\n",
    "            #print(op_name)\n",
    "            op_params = gate_instruction.params\n",
    "\n",
    "            if len(op_params) == 0:\n",
    "                op_params = float('0')\n",
    "            else:\n",
    "                op_params = op_params[0]\n",
    "\n",
    "            op_encoded = gate_dict[op_name]\n",
    "            op_qubit = circuit_instruction.qubits\n",
    "            op_qubit_index = op_qubit[0].index\n",
    "\n",
    "            if op_name == 'cx':\n",
    "                op_gate_quibts = circuit_instruction.qubits\n",
    "                backend_op_name = f'{op_name}_{op_gate_quibts[0].index}_{op_gate_quibts[1].index}'\n",
    "            else:\n",
    "                backend_op_name = f'{op_name}_{op_qubit_index}'\n",
    "\n",
    "            gate_error = backend_properties['gate_props'][backend_op_name]['gate_error']\n",
    "            gate_length = backend_properties['gate_props'][backend_op_name]['gate_length']\n",
    "            'sx_1'\n",
    "\n",
    "            qubit_feature = [op_encoded, op_params, 0, 0, 0, gate_error, gate_length]\n",
    "            features[op_qubit_index].append(qubit_feature)\n",
    "            #print(f'{op_encoded} | {op_params} | {op_qubit}')\n",
    "\n",
    "        max_length = max(len(sublist) for sublist in features)\n",
    "        for sublist in features:\n",
    "            while len(sublist) < max_length:\n",
    "                sublist.append([float('0'), float('0'), float('0'), float('0'), float('0'), float('0'), float('0')])\n",
    "\n",
    "        X.append(features)\n",
    "\n",
    "        \n",
    "\n",
    "    y = []\n",
    "    for exp_val in true_exp_vals:\n",
    "        y.append(exp_val)\n",
    "        \n",
    "    return X, y"
   ]
  },
  {
   "cell_type": "code",
   "execution_count": null,
   "metadata": {},
   "outputs": [],
   "source": []
  }
 ],
 "metadata": {
  "kernelspec": {
   "display_name": "Python 3",
   "language": "python",
   "name": "python3"
  },
  "language_info": {
   "codemirror_mode": {
    "name": "ipython",
    "version": 3
   },
   "file_extension": ".py",
   "mimetype": "text/x-python",
   "name": "python",
   "nbconvert_exporter": "python",
   "pygments_lexer": "ipython3",
   "version": "3.11.3"
  }
 },
 "nbformat": 4,
 "nbformat_minor": 2
}
