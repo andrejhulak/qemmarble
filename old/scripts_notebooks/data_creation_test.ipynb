{
 "cells": [
  {
   "cell_type": "code",
   "execution_count": 1,
   "metadata": {},
   "outputs": [],
   "source": [
    "from scripts.data_setup import create_and_save_data, load_data"
   ]
  },
  {
   "cell_type": "code",
   "execution_count": 2,
   "metadata": {},
   "outputs": [],
   "source": [
    "n_qubits = 5\n",
    "circ_depth = 20\n",
    "pauli_terms = 10\n",
    "n_train_circs = 5\n",
    "n_test_circs = 2\n",
    "file_name = 'data/data_test'"
   ]
  },
  {
   "cell_type": "code",
   "execution_count": 3,
   "metadata": {},
   "outputs": [
    {
     "name": "stdout",
     "output_type": "stream",
     "text": [
      "Data created successfully!\n",
      "Data created successfully!\n",
      "Data saved successfully!\n",
      "Successfully created 5 training circuits with noisy and ideal exp. vals!\n",
      "Successfully created 2 testing circuits with noisy and ideal exp. vals!\n"
     ]
    }
   ],
   "source": [
    "create_and_save_data(n_qubits=n_qubits,\n",
    "                    circ_depth=circ_depth,\n",
    "                    pauli_terms=pauli_terms,\n",
    "                    n_train_circs=n_train_circs,\n",
    "                    n_test_circs=n_test_circs,\n",
    "                    file_name=file_name)"
   ]
  }
 ],
 "metadata": {
  "kernelspec": {
   "display_name": "Python 3",
   "language": "python",
   "name": "python3"
  },
  "language_info": {
   "codemirror_mode": {
    "name": "ipython",
    "version": 3
   },
   "file_extension": ".py",
   "mimetype": "text/x-python",
   "name": "python",
   "nbconvert_exporter": "python",
   "pygments_lexer": "ipython3",
   "version": "3.11.3"
  }
 },
 "nbformat": 4,
 "nbformat_minor": 2
}
