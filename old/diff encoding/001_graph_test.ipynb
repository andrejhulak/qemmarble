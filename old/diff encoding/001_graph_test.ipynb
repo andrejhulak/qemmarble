{
 "cells": [
  {
   "cell_type": "code",
   "execution_count": 1,
   "metadata": {},
   "outputs": [],
   "source": [
    "import json, os, pickle, random\n",
    "import numpy as np\n",
    "from tqdm.notebook import tqdm\n",
    "import pandas as pd\n",
    "\n",
    "import torch\n",
    "from torch.utils.data import Dataset, DataLoader, TensorDataset\n",
    "from torch.optim.lr_scheduler import ReduceLROnPlateau\n",
    "import torch.nn as nn\n",
    "\n",
    "import qiskit\n",
    "from qiskit import QuantumCircuit, execute\n",
    "from qiskit.compiler import transpile\n",
    "from qiskit_aer import AerSimulator, QasmSimulator\n",
    "from qiskit.converters import circuit_to_dag, dag_to_circuit\n",
    "from qiskit.quantum_info import SparsePauliOp, Operator\n",
    "from qiskit.circuit.library import CXGate, RXGate, IGate, ZGate\n",
    "from qiskit.providers.fake_provider import FakeMontreal, FakeLima\n",
    "\n",
    "from utils import get_backend_properties_v1\n",
    "\n",
    "from mlp import MLP1, MLP2, MLP3, encode_data\n",
    "\n",
    "import matplotlib.pyplot as plt\n",
    "import seaborn as sns\n",
    "from noise_utils import AddNoise, RemoveReadoutErrors\n",
    "from mlp import recursive_dict_loop, count_gates_by_rotation_angle\n",
    "from mbd_utils import calc_imbalance\n",
    "import torch\n",
    "from torch import nn\n",
    "from sklearn import datasets\n",
    "import sklearn\n",
    "from utils import circuit_to_graph_data_json\n",
    "from utils import (\n",
    "    generate_random_pauli_sum_op,\n",
    "    create_estimator_meas_data,\n",
    "    circuit_to_graph_data_json,\n",
    "    get_backend_properties_v1,\n",
    "    encode_pauli_sum_op,\n",
    ")\n",
    "from qiskit.circuit.random import random_circuit\n",
    "from sklearn.model_selection import train_test_split"
   ]
  },
  {
   "cell_type": "code",
   "execution_count": 2,
   "metadata": {},
   "outputs": [],
   "source": [
    "\"\"\"Data utilities.\"\"\"\n",
    "from typing import Optional, List, Dict, Union, Any\n",
    "\n",
    "import numpy as np\n",
    "import torch\n",
    "from qiskit import QuantumCircuit\n",
    "from qiskit.circuit import Qubit\n",
    "from qiskit.converters import circuit_to_dag\n",
    "from qiskit.dagcircuit import DAGOpNode, DAGInNode, DAGOutNode\n",
    "from qiskit.opflow import PauliSumOp\n",
    "from qiskit.primitives import BaseEstimator\n",
    "from qiskit.providers import BackendV1\n",
    "from qiskit.quantum_info import random_pauli_list, SparsePauliOp\n",
    "from qiskit_aer import AerSimulator\n",
    "from qiskit_aer.primitives import Estimator as AerEstimator\n",
    "from torch_geometric.data import Data\n",
    "\n",
    "# pylint: disable=no-member\n",
    "available_gate_names = [\n",
    "    # one qubit gates\n",
    "    \"id\",\n",
    "    \"u1\",\n",
    "    \"u2\",\n",
    "    \"u3\",\n",
    "    \"x\",\n",
    "    \"y\",\n",
    "    \"z\",\n",
    "    \"h\",\n",
    "    \"s\",\n",
    "    \"sdg\",\n",
    "    \"t\",\n",
    "    \"tdg\",\n",
    "    \"rx\",\n",
    "    \"ry\",\n",
    "    \"rz\",\n",
    "    # two qubit gates\n",
    "    \"cx\",\n",
    "    \"cy\",\n",
    "    \"cz\",\n",
    "    \"ch\",\n",
    "    \"crz\",\n",
    "    \"cu1\",\n",
    "    \"cu3\",\n",
    "    \"swap\",\n",
    "    \"rzz\",\n",
    "    # three qubit gates\n",
    "    \"ccx\",\n",
    "    \"cswap\",\n",
    "]"
   ]
  },
  {
   "cell_type": "code",
   "execution_count": 3,
   "metadata": {},
   "outputs": [],
   "source": [
    "backend = FakeLima()"
   ]
  },
  {
   "cell_type": "code",
   "execution_count": 4,
   "metadata": {},
   "outputs": [],
   "source": [
    "def circuit_to_graph_data_json(\n",
    "    circuit: QuantumCircuit,\n",
    "    properties: dict,\n",
    "    use_gate_features: bool = False,\n",
    "    use_qubit_features: bool = False,\n",
    "):\n",
    "    \"\"\"Converts circuit to json (dict) for PyG data.\n",
    "\n",
    "    Args:\n",
    "        circuit: quantum circuit\n",
    "        properties: call get_backend_properties_v1 for backend\n",
    "        use_gate_features: use gate features in data graph\n",
    "        use_qubit_features: use qubit features in data graph\n",
    "    \"\"\"\n",
    "\n",
    "    # feature map for gate types\n",
    "    additional_gate_types = [\n",
    "        \"barrier\",\n",
    "        \"measure\",\n",
    "        # \"delay\"\n",
    "    ]\n",
    "    gate_type_feature_map = {\n",
    "        g_name: index\n",
    "        for index, g_name in enumerate(properties[\"gates_set\"] + additional_gate_types)\n",
    "    }\n",
    "\n",
    "    # convert to dag\n",
    "    dag_circuit = circuit_to_dag(circuit)\n",
    "\n",
    "    nodes = list(dag_circuit.nodes())\n",
    "    edges = list(dag_circuit.edges())\n",
    "\n",
    "    # get node data\n",
    "    nodes_dict: Dict[str, Dict[str, Any]] = {\n",
    "        \"DAGOpNode\": {},\n",
    "        \"DAGInNode\": {},\n",
    "        \"DAGOutNode\": {},\n",
    "    }\n",
    "\n",
    "    circuit_n_qubits = circuit.num_qubits\n",
    "\n",
    "    for node in nodes:\n",
    "        if isinstance(node, DAGOpNode):\n",
    "\n",
    "            # qubit features\n",
    "            qubit_properties = {i: {} for i in range(3)}  # as 3 is max number of operable gate size\n",
    "            if node.name != 'barrier' and len(node.qargs) > 3:\n",
    "                raise Exception(\"Non barrier gate that has more than 3 qubits.\"\n",
    "                                \"Those tyoe of gates are not supported yet.\")\n",
    "\n",
    "            if node.name != 'barrier':  # barriers are more than 3 qubits\n",
    "                for i, qubit in enumerate(node.qargs):\n",
    "                    qubit_properties[i] = properties[\"qubits_props\"][qubit.index]\n",
    "\n",
    "            t1_vector = [v.get(\"t1\", 0.0) for v in qubit_properties.values()]\n",
    "            t2_vector = [v.get(\"t2\", 0.0) for v in qubit_properties.values()]\n",
    "            readout_error_vector = [\n",
    "                v.get(\"readout_error\", 0.0) for v in qubit_properties.values()\n",
    "            ]\n",
    "\n",
    "            qubit_feature_vector = t1_vector + t2_vector + readout_error_vector\n",
    "\n",
    "            # gate features\n",
    "            index = len(list(nodes_dict[\"DAGOpNode\"].keys()))\n",
    "\n",
    "            instruction_key = (\n",
    "                f\"{node.op.name}_\"\n",
    "                f\"{'_'.join([str(args.index) for args in list(node.qargs)])}\"\n",
    "            )\n",
    "\n",
    "            gate_props = properties[\"gate_props\"].get(instruction_key, {})\n",
    "            gate_props = {**{\"gate_error\": 0.0, \"gate_length\": 0.0}, **gate_props}\n",
    "            if \"index\" in gate_props:\n",
    "                del gate_props[\"index\"]\n",
    "\n",
    "            # one hot encoding of gate type\n",
    "            gate_type_feature = [0.0 for _ in range(len(gate_type_feature_map))]\n",
    "            gate_type_feature[gate_type_feature_map[node.op.name]] = 1.0\n",
    "\n",
    "            # gate parameter values feature vector\n",
    "            gate_params_feature_vector = [\n",
    "                0.0,\n",
    "                0.0,\n",
    "                0.0,\n",
    "            ]  # 3 is max number of parameter in any instruction\n",
    "            for idx, p in enumerate(node.op.params):\n",
    "                if isinstance(p, (float, int)):\n",
    "                    gate_params_feature_vector[idx] = float(p)\n",
    "                elif p.is_real():\n",
    "                    gate_params_feature_vector[idx] = float(p._symbol_expr)\n",
    "\n",
    "            # gate properties\n",
    "            gate_props_feature_vector = [\n",
    "                gate_props[\"gate_error\"],\n",
    "                gate_props[\"gate_length\"],\n",
    "            ]\n",
    "\n",
    "            feature_vector = gate_params_feature_vector + gate_type_feature\n",
    "            if use_qubit_features:\n",
    "                feature_vector += qubit_feature_vector\n",
    "            if use_gate_features:\n",
    "                feature_vector += gate_props_feature_vector\n",
    "\n",
    "            nodes_dict[\"DAGOpNode\"][node] = {\n",
    "                \"index\": index,\n",
    "                \"type\": \"DAGOpNode\",\n",
    "                \"name\": node.op.name,\n",
    "                \"num_qubits\": node.op.num_qubits,\n",
    "                \"num_clbits\": node.op.num_clbits,\n",
    "                \"params\": [],\n",
    "                \"feature_vector\": feature_vector,\n",
    "                **gate_props,\n",
    "            }\n",
    "\n",
    "        elif isinstance(node, (DAGInNode, DAGOutNode)):\n",
    "            node_type_key = str(type(node)).split(\"'\")[1].split(\".\")[-1]\n",
    "            index = len(list(nodes_dict[node_type_key].keys()))\n",
    "            nodes_dict[node_type_key][node] = {\n",
    "                \"index\": index,\n",
    "                \"type\": node_type_key,\n",
    "                \"register\": node.wire.register.name,\n",
    "                \"bit\": node.wire.index,\n",
    "                \"feature_vector\": [0, 0],\n",
    "            }\n",
    "\n",
    "    # get edge data\n",
    "    edge_dict = {}\n",
    "\n",
    "    for edge in edges:\n",
    "        source, dest, wire = edge\n",
    "        source_type = str(type(source)).split(\"'\")[1].split(\".\")[-1]\n",
    "        dest_type = str(type(dest)).split(\"'\")[1].split(\".\")[-1]\n",
    "\n",
    "        source = nodes_dict[source_type][source]\n",
    "        dest = nodes_dict[dest_type][dest]\n",
    "\n",
    "        if isinstance(wire, Qubit):\n",
    "            edge_attrs = properties[\"qubits_props\"][wire.index]\n",
    "            key = (source_type, \"wire\", dest_type)\n",
    "\n",
    "            if key not in edge_dict:\n",
    "                edge_dict[key] = {\n",
    "                    \"edge_index\": [[source[\"index\"], dest[\"index\"]]],\n",
    "                    \"edge_attr\": [\n",
    "                        [\n",
    "                            edge_attrs[\"t1\"],\n",
    "                            edge_attrs[\"t2\"],\n",
    "                            edge_attrs[\"readout_error\"],\n",
    "                        ]\n",
    "                    ],\n",
    "                }\n",
    "            else:\n",
    "                edge_dict[key][\"edge_index\"].append([source[\"index\"], dest[\"index\"]])\n",
    "                edge_dict[key][\"edge_attr\"].append(\n",
    "                    [edge_attrs[\"t1\"], edge_attrs[\"t2\"], edge_attrs[\"readout_error\"]]\n",
    "                )\n",
    "\n",
    "    # form data\n",
    "    data: Dict[str, Dict[str, Any]] = {\"nodes\": {}, \"edges\": {}}\n",
    "\n",
    "    data[\"nodes\"][\"DAGOpNode\"] = [\n",
    "        node[\"feature_vector\"] for node in nodes_dict[\"DAGOpNode\"].values()\n",
    "    ]\n",
    "    data[\"nodes\"][\"DAGInNode\"] = [\n",
    "        node[\"feature_vector\"] for node in nodes_dict[\"DAGInNode\"].values()\n",
    "    ]\n",
    "    data[\"nodes\"][\"DAGOutNode\"] = [\n",
    "        node[\"feature_vector\"] for node in nodes_dict[\"DAGOutNode\"].values()\n",
    "    ]\n",
    "\n",
    "    for key, d in edge_dict.items():\n",
    "        edge_index = np.array(d[\"edge_index\"]).T.tolist()\n",
    "        edge_attr = d[\"edge_attr\"]\n",
    "\n",
    "        data[\"edges\"][\"_\".join(list(key))] = {\n",
    "            \"edge_index\": edge_index,\n",
    "            \"edge_attr\": edge_attr,\n",
    "        }\n",
    "\n",
    "    return data"
   ]
  },
  {
   "cell_type": "code",
   "execution_count": 5,
   "metadata": {},
   "outputs": [
    {
     "data": {
      "text/plain": [
       "<qiskit.circuit.instructionset.InstructionSet at 0x1c11db3a080>"
      ]
     },
     "execution_count": 5,
     "metadata": {},
     "output_type": "execute_result"
    }
   ],
   "source": [
    "qc = QuantumCircuit(2, 2)\n",
    "qc.x(0)\n",
    "qc.cx(0, 1)"
   ]
  },
  {
   "cell_type": "code",
   "execution_count": 6,
   "metadata": {},
   "outputs": [
    {
     "data": {
      "image/png": "[encoded data removed]",
      "text/plain": [
       "<Figure size 287.294x284.278 with 1 Axes>"
      ]
     },
     "execution_count": 6,
     "metadata": {},
     "output_type": "execute_result"
    }
   ],
   "source": [
    "qc.draw('mpl')"
   ]
  },
  {
   "cell_type": "code",
   "execution_count": 7,
   "metadata": {},
   "outputs": [],
   "source": [
    "qc_graph =  circuit_to_graph_data_json(\n",
    "            circuit=transpile(qc, backend, optimization_level=0),\n",
    "            properties=get_backend_properties_v1(backend),\n",
    "            use_qubit_features=True,\n",
    "            use_gate_features=True,\n",
    "            )"
   ]
  },
  {
   "cell_type": "code",
   "execution_count": 8,
   "metadata": {},
   "outputs": [],
   "source": [
    "# Convert tensor to a nested Python list\n",
    "#tensor_list = qc_graph.tolist()\n",
    "\n",
    "# Convert the nested list to JSON\n",
    "json_data = json.dumps(qc_graph, indent=4)\n",
    "\n",
    "#print(json_data)\n",
    "\n",
    "# Specify the file path where you want to save the JSON data\n",
    "file_path = \"001_graph_circ_data_X_gate_X_gate.json\"\n",
    "\n",
    "# Write the JSON data to the file\n",
    "with open(file_path, \"w\") as json_file:\n",
    "    json_file.write(json_data)"
   ]
  },
  {
   "cell_type": "code",
   "execution_count": 9,
   "metadata": {},
   "outputs": [],
   "source": [
    "dag_qc = circuit_to_dag(qc)"
   ]
  },
  {
   "cell_type": "code",
   "execution_count": 10,
   "metadata": {},
   "outputs": [
    {
     "data": {
      "image/png": "[encoded data removed]",
      "text/plain": [
       "<PIL.PngImagePlugin.PngImageFile image mode=RGBA size=270x299>"
      ]
     },
     "execution_count": 10,
     "metadata": {},
     "output_type": "execute_result"
    }
   ],
   "source": [
    "dag_qc.draw()"
   ]
  },
  {
   "cell_type": "code",
   "execution_count": 17,
   "metadata": {},
   "outputs": [
    {
     "name": "stdout",
     "output_type": "stream",
     "text": [
      "(DAGInNode(wire=Qubit(QuantumRegister(2, 'q'), 0)), DAGOpNode(op=Instruction(name='x', num_qubits=1, num_clbits=0, params=[]), qargs=(Qubit(QuantumRegister(2, 'q'), 0),), cargs=()), Qubit(QuantumRegister(2, 'q'), 0))\n",
      "(DAGInNode(wire=Qubit(QuantumRegister(2, 'q'), 1)), DAGOpNode(op=Instruction(name='cx', num_qubits=2, num_clbits=0, params=[]), qargs=(Qubit(QuantumRegister(2, 'q'), 0), Qubit(QuantumRegister(2, 'q'), 1)), cargs=()), Qubit(QuantumRegister(2, 'q'), 1))\n",
      "(DAGInNode(wire=Clbit(ClassicalRegister(2, 'c'), 0)), DAGOutNode(wire=Clbit(ClassicalRegister(2, 'c'), 0)), Clbit(ClassicalRegister(2, 'c'), 0))\n",
      "(DAGInNode(wire=Clbit(ClassicalRegister(2, 'c'), 1)), DAGOutNode(wire=Clbit(ClassicalRegister(2, 'c'), 1)), Clbit(ClassicalRegister(2, 'c'), 1))\n",
      "(DAGOpNode(op=Instruction(name='x', num_qubits=1, num_clbits=0, params=[]), qargs=(Qubit(QuantumRegister(2, 'q'), 0),), cargs=()), DAGOpNode(op=Instruction(name='cx', num_qubits=2, num_clbits=0, params=[]), qargs=(Qubit(QuantumRegister(2, 'q'), 0), Qubit(QuantumRegister(2, 'q'), 1)), cargs=()), Qubit(QuantumRegister(2, 'q'), 0))\n",
      "(DAGOpNode(op=Instruction(name='cx', num_qubits=2, num_clbits=0, params=[]), qargs=(Qubit(QuantumRegister(2, 'q'), 0), Qubit(QuantumRegister(2, 'q'), 1)), cargs=()), DAGOutNode(wire=Qubit(QuantumRegister(2, 'q'), 1)), Qubit(QuantumRegister(2, 'q'), 1))\n",
      "(DAGOpNode(op=Instruction(name='cx', num_qubits=2, num_clbits=0, params=[]), qargs=(Qubit(QuantumRegister(2, 'q'), 0), Qubit(QuantumRegister(2, 'q'), 1)), cargs=()), DAGOutNode(wire=Qubit(QuantumRegister(2, 'q'), 0)), Qubit(QuantumRegister(2, 'q'), 0))\n"
     ]
    }
   ],
   "source": [
    "for i in dag_qc.edges():\n",
    "    print(i)"
   ]
  },
  {
   "cell_type": "code",
   "execution_count": 18,
   "metadata": {},
   "outputs": [
    {
     "name": "stdout",
     "output_type": "stream",
     "text": [
      "1928968519232\n",
      "1928968516096\n",
      "1928967038016\n",
      "1928967038400\n",
      "1928966654720\n",
      "1928966654016\n",
      "1928966654784\n",
      "1928962706688\n",
      "1928940735760\n",
      "1928940735040\n"
     ]
    }
   ],
   "source": [
    "for i in dag_qc.nodes():\n",
    "    print(i)"
   ]
  },
  {
   "cell_type": "code",
   "execution_count": null,
   "metadata": {},
   "outputs": [],
   "source": []
  }
 ],
 "metadata": {
  "kernelspec": {
   "display_name": "Python 3",
   "language": "python",
   "name": "python3"
  },
  "language_info": {
   "codemirror_mode": {
    "name": "ipython",
    "version": 3
   },
   "file_extension": ".py",
   "mimetype": "text/x-python",
   "name": "python",
   "nbconvert_exporter": "python",
   "pygments_lexer": "ipython3",
   "version": "3.11.3"
  }
 },
 "nbformat": 4,
 "nbformat_minor": 2
}
