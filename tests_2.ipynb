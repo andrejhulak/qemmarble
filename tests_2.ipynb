{
 "cells": [
  {
   "cell_type": "code",
   "execution_count": 16,
   "metadata": {},
   "outputs": [],
   "source": [
    "import numpy as np\n",
    "import json, os, pickle, random\n",
    "from tqdm.notebook import tqdm\n",
    "import pandas as pd\n",
    "import torch\n",
    "from torch.utils.data import Dataset, DataLoader, TensorDataset\n",
    "from torch.optim.lr_scheduler import ReduceLROnPlateau\n",
    "import torch.nn as nn\n",
    "import qiskit\n",
    "from qiskit import QuantumCircuit, execute\n",
    "from qiskit.compiler import transpile\n",
    "from qiskit_aer import AerSimulator, QasmSimulator\n",
    "from qiskit.converters import circuit_to_dag, dag_to_circuit\n",
    "from qiskit.quantum_info import SparsePauliOp, Operator\n",
    "from qiskit.circuit.library import CXGate, RXGate, IGate, ZGate\n",
    "from qiskit.providers.fake_provider import FakeMontreal, FakeLima\n",
    "from scripts.utils import get_backend_properties_v1\n",
    "from scripts.mlp import MLP1, MLP2, MLP3, encode_data\n",
    "import matplotlib.pyplot as plt\n",
    "import seaborn as sns\n",
    "from scripts.noise_utils import AddNoise, RemoveReadoutErrors\n",
    "from scripts.from_circ_to_numpy import *"
   ]
  },
  {
   "cell_type": "code",
   "execution_count": 17,
   "metadata": {},
   "outputs": [],
   "source": [
    "def load_data(file_path):\n",
    "    with open(file_path, 'rb') as f:\n",
    "        data = pickle.load(f)\n",
    "    return data[\"train_data\"], data[\"test_data\"]"
   ]
  },
  {
   "cell_type": "code",
   "execution_count": 18,
   "metadata": {},
   "outputs": [],
   "source": [
    "train_data, test_data = load_data(\"data/circuits/random_circ_paper_experiment_1.pkl\")"
   ]
  },
  {
   "cell_type": "code",
   "execution_count": 19,
   "metadata": {},
   "outputs": [],
   "source": [
    "from scripts.mlp import encode_data\n",
    "from scripts.utils import get_backend_properties_v1\n",
    "from qiskit.providers.fake_provider import FakeLima\n",
    "\n",
    "backend = FakeLima()\n",
    "properties = get_backend_properties_v1(backend=backend)"
   ]
  },
  {
   "cell_type": "code",
   "execution_count": 20,
   "metadata": {},
   "outputs": [],
   "source": [
    "start = 14\n",
    "end = 19 # 18 basically"
   ]
  },
  {
   "cell_type": "code",
   "execution_count": 21,
   "metadata": {},
   "outputs": [],
   "source": [
    "train_circuits = []\n",
    "train_ideal_exp_vals = []\n",
    "train_noisy_exp_vals = []\n",
    "for i in range(start, end):\n",
    "    for circ in train_data[i]:\n",
    "        train_circuits.append(circ[0])\n",
    "        train_ideal_exp_vals.append(circ[2])\n",
    "        train_noisy_exp_vals.append(circ[3])"
   ]
  },
  {
   "cell_type": "code",
   "execution_count": 22,
   "metadata": {},
   "outputs": [],
   "source": [
    "test_circuits = []\n",
    "test_ideal_exp_vals = []\n",
    "test_noisy_exp_vals = []\n",
    "for i in range(start, end):\n",
    "    for circ in test_data[i]:\n",
    "        test_circuits.append(circ[0])\n",
    "        test_ideal_exp_vals.append(circ[2])\n",
    "        test_noisy_exp_vals.append(circ[3])\n"
   ]
  },
  {
   "cell_type": "code",
   "execution_count": 23,
   "metadata": {},
   "outputs": [],
   "source": [
    "X_train, y_train, X_test, y_test = load_from_json('data/features/circ_14_18')"
   ]
  },
  {
   "cell_type": "code",
   "execution_count": 24,
   "metadata": {},
   "outputs": [],
   "source": [
    "X_train_rf, y_train_rf = encode_data(train_circuits, properties, train_ideal_exp_vals, train_noisy_exp_vals, num_qubits=4)\n",
    "X_test_rf, y_test_rf = encode_data(test_circuits, properties, test_ideal_exp_vals, test_noisy_exp_vals, num_qubits=4)"
   ]
  },
  {
   "cell_type": "code",
   "execution_count": 25,
   "metadata": {},
   "outputs": [
    {
     "data": {
      "text/plain": [
       "58"
      ]
     },
     "execution_count": 25,
     "metadata": {},
     "output_type": "execute_result"
    }
   ],
   "source": [
    "len(X_train_rf[0])"
   ]
  },
  {
   "cell_type": "code",
   "execution_count": 26,
   "metadata": {},
   "outputs": [],
   "source": [
    "from scripts.model_test_ignore_2 import *\n",
    "import torch\n",
    "import torch.nn as nn\n",
    "import torch.optim as optim\n",
    "import numpy as np\n",
    "from tqdm.auto import tqdm\n",
    "import json, os\n",
    "\n",
    "\n",
    "sequence_input_size = 7\n",
    "sequence_hidden_size = 4\n",
    "sequence_num_layers = 4\n",
    "sequence_model_type = 'LSTM'\n",
    "sequence_dropout = 0.1\n",
    "ann_hidden_layers = 2\n",
    "ann_hidden_units = 64\n",
    "ann_dropout = 0\n",
    "noisy_first = True\n",
    "\n",
    "num_epochs = 4"
   ]
  },
  {
   "cell_type": "code",
   "execution_count": 27,
   "metadata": {},
   "outputs": [],
   "source": [
    "y_training = []\n",
    "for y in range(4):\n",
    "    temp = []\n",
    "    for i in range(len(y_train)):\n",
    "        temp.append(y_train[i][y])\n",
    "    y_training.append(temp)\n",
    "\n",
    "y_training = torch.tensor(y_training)"
   ]
  },
  {
   "cell_type": "code",
   "execution_count": 28,
   "metadata": {},
   "outputs": [],
   "source": [
    "y_testing = []\n",
    "for y in range(4):\n",
    "    temp = []\n",
    "    for i in range(len(y_test)):\n",
    "        temp.append(y_test[i][y])\n",
    "    y_testing.append(temp)\n",
    "\n",
    "y_testing = torch.tensor(y_testing)"
   ]
  },
  {
   "cell_type": "code",
   "execution_count": 29,
   "metadata": {},
   "outputs": [],
   "source": [
    "train_noisy_exp_vals = torch.tensor(train_noisy_exp_vals)\n",
    "test_noisy_exp_vals = torch.tensor(test_noisy_exp_vals)"
   ]
  },
  {
   "cell_type": "code",
   "execution_count": 30,
   "metadata": {},
   "outputs": [
    {
     "name": "stdout",
     "output_type": "stream",
     "text": [
      "Epoch 1/4, train loss (PyTorch): 0.1738, test_loss (scikitlearn rmse): 0.1307\n"
     ]
    },
    {
     "name": "stderr",
     "output_type": "stream",
     "text": [
      "c:\\Users\\andre\\Desktop\\programovanie\\python\\qemmarble\\scripts\\model_test_ignore_2.py:53: UserWarning: To copy construct from a tensor, it is recommended to use sourceTensor.clone().detach() or sourceTensor.clone().detach().requires_grad_(True), rather than torch.tensor(sourceTensor).\n",
      "  x = torch.concat((x, torch.tensor(x_rf)))\n"
     ]
    },
    {
     "name": "stdout",
     "output_type": "stream",
     "text": [
      "Epoch 2/4, train loss (PyTorch): 0.1229, test_loss (scikitlearn rmse): 0.1233\n"
     ]
    },
    {
     "name": "stderr",
     "output_type": "stream",
     "text": [
      "c:\\Users\\andre\\Desktop\\programovanie\\python\\qemmarble\\scripts\\model_test_ignore_2.py:53: UserWarning: To copy construct from a tensor, it is recommended to use sourceTensor.clone().detach() or sourceTensor.clone().detach().requires_grad_(True), rather than torch.tensor(sourceTensor).\n",
      "  x = torch.concat((x, torch.tensor(x_rf)))\n"
     ]
    },
    {
     "name": "stdout",
     "output_type": "stream",
     "text": [
      "Epoch 3/4, train loss (PyTorch): 0.1215, test_loss (scikitlearn rmse): 0.1234\n"
     ]
    },
    {
     "name": "stderr",
     "output_type": "stream",
     "text": [
      "c:\\Users\\andre\\Desktop\\programovanie\\python\\qemmarble\\scripts\\model_test_ignore_2.py:53: UserWarning: To copy construct from a tensor, it is recommended to use sourceTensor.clone().detach() or sourceTensor.clone().detach().requires_grad_(True), rather than torch.tensor(sourceTensor).\n",
      "  x = torch.concat((x, torch.tensor(x_rf)))\n"
     ]
    },
    {
     "name": "stdout",
     "output_type": "stream",
     "text": [
      "Epoch 4/4, train loss (PyTorch): 0.1214, test_loss (scikitlearn rmse): 0.1228\n"
     ]
    },
    {
     "name": "stderr",
     "output_type": "stream",
     "text": [
      "c:\\Users\\andre\\Desktop\\programovanie\\python\\qemmarble\\scripts\\model_test_ignore_2.py:53: UserWarning: To copy construct from a tensor, it is recommended to use sourceTensor.clone().detach() or sourceTensor.clone().detach().requires_grad_(True), rather than torch.tensor(sourceTensor).\n",
      "  x = torch.concat((x, torch.tensor(x_rf)))\n"
     ]
    },
    {
     "name": "stdout",
     "output_type": "stream",
     "text": [
      "Epoch 1/4, train loss (PyTorch): 0.1865, test_loss (scikitlearn rmse): 0.1310\n"
     ]
    },
    {
     "name": "stderr",
     "output_type": "stream",
     "text": [
      "c:\\Users\\andre\\Desktop\\programovanie\\python\\qemmarble\\scripts\\model_test_ignore_2.py:53: UserWarning: To copy construct from a tensor, it is recommended to use sourceTensor.clone().detach() or sourceTensor.clone().detach().requires_grad_(True), rather than torch.tensor(sourceTensor).\n",
      "  x = torch.concat((x, torch.tensor(x_rf)))\n"
     ]
    },
    {
     "name": "stdout",
     "output_type": "stream",
     "text": [
      "Epoch 2/4, train loss (PyTorch): 0.1244, test_loss (scikitlearn rmse): 0.1183\n"
     ]
    },
    {
     "name": "stderr",
     "output_type": "stream",
     "text": [
      "c:\\Users\\andre\\Desktop\\programovanie\\python\\qemmarble\\scripts\\model_test_ignore_2.py:53: UserWarning: To copy construct from a tensor, it is recommended to use sourceTensor.clone().detach() or sourceTensor.clone().detach().requires_grad_(True), rather than torch.tensor(sourceTensor).\n",
      "  x = torch.concat((x, torch.tensor(x_rf)))\n"
     ]
    },
    {
     "name": "stdout",
     "output_type": "stream",
     "text": [
      "Epoch 3/4, train loss (PyTorch): 0.1218, test_loss (scikitlearn rmse): 0.1233\n"
     ]
    },
    {
     "name": "stderr",
     "output_type": "stream",
     "text": [
      "c:\\Users\\andre\\Desktop\\programovanie\\python\\qemmarble\\scripts\\model_test_ignore_2.py:53: UserWarning: To copy construct from a tensor, it is recommended to use sourceTensor.clone().detach() or sourceTensor.clone().detach().requires_grad_(True), rather than torch.tensor(sourceTensor).\n",
      "  x = torch.concat((x, torch.tensor(x_rf)))\n"
     ]
    },
    {
     "name": "stdout",
     "output_type": "stream",
     "text": [
      "Epoch 4/4, train loss (PyTorch): 0.1223, test_loss (scikitlearn rmse): 0.1213\n"
     ]
    },
    {
     "name": "stderr",
     "output_type": "stream",
     "text": [
      "c:\\Users\\andre\\Desktop\\programovanie\\python\\qemmarble\\scripts\\model_test_ignore_2.py:53: UserWarning: To copy construct from a tensor, it is recommended to use sourceTensor.clone().detach() or sourceTensor.clone().detach().requires_grad_(True), rather than torch.tensor(sourceTensor).\n",
      "  x = torch.concat((x, torch.tensor(x_rf)))\n"
     ]
    },
    {
     "name": "stdout",
     "output_type": "stream",
     "text": [
      "Epoch 1/4, train loss (PyTorch): 0.1711, test_loss (scikitlearn rmse): 0.1321\n"
     ]
    },
    {
     "name": "stderr",
     "output_type": "stream",
     "text": [
      "c:\\Users\\andre\\Desktop\\programovanie\\python\\qemmarble\\scripts\\model_test_ignore_2.py:53: UserWarning: To copy construct from a tensor, it is recommended to use sourceTensor.clone().detach() or sourceTensor.clone().detach().requires_grad_(True), rather than torch.tensor(sourceTensor).\n",
      "  x = torch.concat((x, torch.tensor(x_rf)))\n"
     ]
    },
    {
     "name": "stdout",
     "output_type": "stream",
     "text": [
      "Epoch 2/4, train loss (PyTorch): 0.1231, test_loss (scikitlearn rmse): 0.1268\n"
     ]
    },
    {
     "name": "stderr",
     "output_type": "stream",
     "text": [
      "c:\\Users\\andre\\Desktop\\programovanie\\python\\qemmarble\\scripts\\model_test_ignore_2.py:53: UserWarning: To copy construct from a tensor, it is recommended to use sourceTensor.clone().detach() or sourceTensor.clone().detach().requires_grad_(True), rather than torch.tensor(sourceTensor).\n",
      "  x = torch.concat((x, torch.tensor(x_rf)))\n"
     ]
    },
    {
     "name": "stdout",
     "output_type": "stream",
     "text": [
      "Epoch 3/4, train loss (PyTorch): 0.1224, test_loss (scikitlearn rmse): 0.1280\n"
     ]
    },
    {
     "name": "stderr",
     "output_type": "stream",
     "text": [
      "c:\\Users\\andre\\Desktop\\programovanie\\python\\qemmarble\\scripts\\model_test_ignore_2.py:53: UserWarning: To copy construct from a tensor, it is recommended to use sourceTensor.clone().detach() or sourceTensor.clone().detach().requires_grad_(True), rather than torch.tensor(sourceTensor).\n",
      "  x = torch.concat((x, torch.tensor(x_rf)))\n"
     ]
    },
    {
     "name": "stdout",
     "output_type": "stream",
     "text": [
      "Epoch 4/4, train loss (PyTorch): 0.1222, test_loss (scikitlearn rmse): 0.1261\n"
     ]
    },
    {
     "name": "stderr",
     "output_type": "stream",
     "text": [
      "c:\\Users\\andre\\Desktop\\programovanie\\python\\qemmarble\\scripts\\model_test_ignore_2.py:53: UserWarning: To copy construct from a tensor, it is recommended to use sourceTensor.clone().detach() or sourceTensor.clone().detach().requires_grad_(True), rather than torch.tensor(sourceTensor).\n",
      "  x = torch.concat((x, torch.tensor(x_rf)))\n"
     ]
    },
    {
     "name": "stdout",
     "output_type": "stream",
     "text": [
      "Epoch 1/4, train loss (PyTorch): 0.1769, test_loss (scikitlearn rmse): 0.1302\n"
     ]
    },
    {
     "name": "stderr",
     "output_type": "stream",
     "text": [
      "c:\\Users\\andre\\Desktop\\programovanie\\python\\qemmarble\\scripts\\model_test_ignore_2.py:53: UserWarning: To copy construct from a tensor, it is recommended to use sourceTensor.clone().detach() or sourceTensor.clone().detach().requires_grad_(True), rather than torch.tensor(sourceTensor).\n",
      "  x = torch.concat((x, torch.tensor(x_rf)))\n"
     ]
    },
    {
     "name": "stdout",
     "output_type": "stream",
     "text": [
      "Epoch 2/4, train loss (PyTorch): 0.1227, test_loss (scikitlearn rmse): 0.1230\n"
     ]
    },
    {
     "name": "stderr",
     "output_type": "stream",
     "text": [
      "c:\\Users\\andre\\Desktop\\programovanie\\python\\qemmarble\\scripts\\model_test_ignore_2.py:53: UserWarning: To copy construct from a tensor, it is recommended to use sourceTensor.clone().detach() or sourceTensor.clone().detach().requires_grad_(True), rather than torch.tensor(sourceTensor).\n",
      "  x = torch.concat((x, torch.tensor(x_rf)))\n"
     ]
    },
    {
     "name": "stdout",
     "output_type": "stream",
     "text": [
      "Epoch 3/4, train loss (PyTorch): 0.1207, test_loss (scikitlearn rmse): 0.1223\n"
     ]
    },
    {
     "name": "stderr",
     "output_type": "stream",
     "text": [
      "c:\\Users\\andre\\Desktop\\programovanie\\python\\qemmarble\\scripts\\model_test_ignore_2.py:53: UserWarning: To copy construct from a tensor, it is recommended to use sourceTensor.clone().detach() or sourceTensor.clone().detach().requires_grad_(True), rather than torch.tensor(sourceTensor).\n",
      "  x = torch.concat((x, torch.tensor(x_rf)))\n"
     ]
    },
    {
     "name": "stdout",
     "output_type": "stream",
     "text": [
      "Epoch 4/4, train loss (PyTorch): 0.1209, test_loss (scikitlearn rmse): 0.1224\n"
     ]
    }
   ],
   "source": [
    "model_list = []\n",
    "for q in range(4):\n",
    "    sequence_model = create_models(sequence_input_size, \n",
    "                                        sequence_hidden_size, \n",
    "                                        sequence_num_layers, \n",
    "                                        sequence_model_type, \n",
    "                                        sequence_dropout, \n",
    "                                        ann_hidden_layers, \n",
    "                                        ann_hidden_units, \n",
    "                                        ann_dropout)\n",
    "    loss_fn = nn.MSELoss() # leave for now\n",
    "    optimizer = optim.Adam(sequence_model.parameters(), lr=0.01)  \n",
    "\n",
    "    train_losses, test_losses = train_and_test_step(sequence_model, loss_fn, optimizer, X_train, train_noisy_exp_vals[:, q], y_training[q], X_test, test_noisy_exp_vals[:, q], y_testing[q], num_epochs, x_rf_train=X_train_rf, x_rf_test=X_test_rf)\n",
    "\n",
    "    model_list.append((sequence_model))"
   ]
  },
  {
   "cell_type": "code",
   "execution_count": 31,
   "metadata": {},
   "outputs": [],
   "source": [
    "y_test_tensor_proper = torch.ones(test_noisy_exp_vals.shape)\n",
    "for i in range(len(y_test_tensor_proper)):\n",
    "    for y in range(len(y_test_tensor_proper[0])):\n",
    "        y_test_tensor_proper[i][y] = y_test[i][y]"
   ]
  },
  {
   "cell_type": "code",
   "execution_count": 35,
   "metadata": {},
   "outputs": [
    {
     "name": "stdout",
     "output_type": "stream",
     "text": [
      "RMSE_noisy_0: 0.1747466191258303\n",
      "RMSE_mitigated_0: 0.12335021281516848\n",
      "RMSE_noisy_1: 0.17247133147663646\n",
      "RMSE_mitigated_1: 0.11759498941334644\n",
      "RMSE_noisy_2: 0.17222342082773434\n",
      "RMSE_mitigated_2: 0.12586789974655122\n",
      "RMSE_noisy_3: 0.1743177824492419\n",
      "RMSE_mitigated_3: 0.12244012359377303\n",
      "RMSE_noisy: 0.17344331713621883\n",
      "RMSE_mitigated: 0.12235008029108388\n"
     ]
    },
    {
     "data": {
      "image/png": "[encoded data removed]",
      "text/plain": [
       "<Figure size 640x480 with 1 Axes>"
      ]
     },
     "metadata": {},
     "output_type": "display_data"
    },
    {
     "data": {
      "image/png": "[encoded data removed]",
      "text/plain": [
       "<Figure size 640x480 with 1 Axes>"
      ]
     },
     "metadata": {},
     "output_type": "display_data"
    }
   ],
   "source": [
    "from scripts.mbd_utils import calc_imbalance\n",
    "distances = []\n",
    "\n",
    "num_spins = 4\n",
    "even_qubits = np.linspace(0, num_spins, int(num_spins/2), endpoint=False)\n",
    "odd_qubits = np.linspace(1, num_spins+1, int(num_spins/2), endpoint=False)\n",
    "\n",
    "out = []\n",
    "for q, model in enumerate(model_list):\n",
    "    model_output = []\n",
    "    for i in range(len(X_test)):\n",
    "        model_output.append(float(run_models(sequence_model, X_test[i], test_noisy_exp_vals[i][q], X_test_rf[i]).detach().cpu().numpy()))\n",
    "    out.append(model_output)\n",
    "out = np.array(out).transpose()\n",
    "# out = rfr.predict(batch_X[:, -4:])\n",
    "\n",
    "for ideal, noisy, ngm_mitigated in zip(\n",
    "    y_test_tensor_proper.tolist(),\n",
    "    test_noisy_exp_vals.tolist(),\n",
    "    out.tolist()\n",
    "):\n",
    "    imbalance_ideal = calc_imbalance([ideal], even_qubits, odd_qubits)[0]\n",
    "    imbalance_noisy = calc_imbalance([noisy], even_qubits, odd_qubits)[0]\n",
    "    imbalance_mitigated = calc_imbalance([ngm_mitigated], even_qubits, odd_qubits)[0]\n",
    "    for q in range(4):\n",
    "        ideal_q = ideal[q]\n",
    "        noisy_q = noisy[q]\n",
    "        ngm_mitigated_q = ngm_mitigated[q]\n",
    "        distances.append({\n",
    "            f\"ideal_{q}\": ideal_q,\n",
    "            f\"noisy_{q}\": noisy_q,\n",
    "            f\"ngm_mitigated_{q}\": ngm_mitigated_q,\n",
    "            f\"dist_noisy_{q}\": np.abs(ideal_q - noisy_q),\n",
    "            f\"dist_mitigated_{q}\": np.abs(ideal_q - ngm_mitigated_q),\n",
    "            f\"dist_sq_noisy_{q}\": np.square(ideal_q - noisy_q),\n",
    "            f\"dist_sq_mitigated_{q}\": np.square(ideal_q - ngm_mitigated_q),\n",
    "            \"imb_ideal\": imbalance_ideal,\n",
    "            \"imb_noisy\": imbalance_noisy,\n",
    "            \"imb_ngm\": imbalance_mitigated,\n",
    "            \"imb_diff\": imbalance_ideal - imbalance_mitigated\n",
    "        })\n",
    "\n",
    "plt.style.use({'figure.facecolor':'white'})\n",
    "\n",
    "df = pd.DataFrame(distances)\n",
    "\n",
    "for q in range(4):\n",
    "    print(f'RMSE_noisy_{q}:', np.sqrt(df[f\"dist_sq_noisy_{q}\"].mean()))\n",
    "    print(f'RMSE_mitigated_{q}:', np.sqrt(df[f\"dist_sq_mitigated_{q}\"].mean()))\n",
    "\n",
    "print(f'RMSE_noisy:', np.sqrt(np.mean([df[f\"dist_sq_noisy_{q}\"].mean() for q in range(4)])))\n",
    "print(f'RMSE_mitigated:', np.sqrt(np.mean([df[f\"dist_sq_mitigated_{q}\"].mean() for q in range(4)])))\n",
    "\n",
    "sns.boxplot(data=df[[\"dist_noisy_0\", \"dist_mitigated_0\", \"dist_noisy_1\", \"dist_mitigated_1\", \"dist_noisy_2\", \"dist_mitigated_2\", \"dist_noisy_3\", \"dist_mitigated_3\"]], orient=\"h\", showfliers = False)\n",
    "plt.title(\"Dist to ideal exp value\")\n",
    "plt.show()\n",
    "\n",
    "sns.histplot([df['ideal_0'], df['noisy_0'], df[\"ngm_mitigated_0\"]], kde=True, bins=40)\n",
    "plt.title(\"Exp values distribution\")\n",
    "plt.show()"
   ]
  },
  {
   "cell_type": "code",
   "execution_count": null,
   "metadata": {},
   "outputs": [],
   "source": []
  }
 ],
 "metadata": {
  "kernelspec": {
   "display_name": "Python 3",
   "language": "python",
   "name": "python3"
  },
  "language_info": {
   "codemirror_mode": {
    "name": "ipython",
    "version": 3
   },
   "file_extension": ".py",
   "mimetype": "text/x-python",
   "name": "python",
   "nbconvert_exporter": "python",
   "pygments_lexer": "ipython3",
   "version": "3.11.3"
  }
 },
 "nbformat": 4,
 "nbformat_minor": 2
}
