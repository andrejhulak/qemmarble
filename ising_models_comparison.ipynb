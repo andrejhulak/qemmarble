{
 "cells": [
  {
   "cell_type": "code",
   "execution_count": 14,
   "metadata": {},
   "outputs": [
    {
     "name": "stdout",
     "output_type": "stream",
     "text": [
      "\n",
      "Top 5 Models for Qubit 1:\n",
      "Model: results_model_73_1.json, Test Loss: 0.05194953829050064\n",
      "Model: results_model_74_1.json, Test Loss: 0.052932318300008774\n",
      "Model: results_model_37_1.json, Test Loss: 0.05330517143011093\n",
      "Model: results_model_34_1.json, Test Loss: 0.05372452735900879\n",
      "Model: results_model_98_1.json, Test Loss: 0.053916774690151215\n",
      "\n",
      "Top 5 Models for Qubit 2:\n",
      "Model: results_model_11_2.json, Test Loss: 0.040817003697156906\n",
      "Model: results_model_10_2.json, Test Loss: 0.0476287417113781\n",
      "Model: results_model_97_2.json, Test Loss: 0.04786965996026993\n",
      "Model: results_model_74_2.json, Test Loss: 0.047904785722494125\n",
      "Model: results_model_91_2.json, Test Loss: 0.04794375225901604\n",
      "\n",
      "Top 5 Models for Qubit 3:\n",
      "Model: results_model_6_3.json, Test Loss: 0.08419826626777649\n",
      "Model: results_model_96_3.json, Test Loss: 0.10740915685892105\n",
      "Model: results_model_82_3.json, Test Loss: 0.11246635019779205\n",
      "Model: results_model_4_3.json, Test Loss: 0.11278434097766876\n",
      "Model: results_model_24_3.json, Test Loss: 0.11612329632043839\n",
      "\n",
      "Top 5 Models for Qubit 4:\n",
      "Model: results_model_91_4.json, Test Loss: 0.047798771411180496\n",
      "Model: results_model_100_4.json, Test Loss: 0.048250917345285416\n",
      "Model: results_model_77_4.json, Test Loss: 0.048609744757413864\n",
      "Model: results_model_89_4.json, Test Loss: 0.050272855907678604\n",
      "Model: results_model_19_4.json, Test Loss: 0.05085420981049538\n"
     ]
    }
   ],
   "source": [
    "import os\n",
    "import json\n",
    "import glob\n",
    "\n",
    "directory = 'experiment_models/ising/results'\n",
    "\n",
    "grouped_results = defaultdict(list)\n",
    "\n",
    "for filepath in glob.glob(os.path.join(directory, 'results_model_*.json')):\n",
    "    with open(filepath, 'r') as file:\n",
    "        data = json.load(file)\n",
    "        filename = os.path.basename(filepath)\n",
    "        qubit = int(filename.split('_')[-1].split('.')[0])\n",
    "        min_test_loss = min(data[\"test_losses\"])\n",
    "        grouped_results[qubit].append((filename, min_test_loss))\n",
    "\n",
    "for qubit, results in grouped_results.items():\n",
    "    sorted_models = sorted(results, key=lambda x: x[1])\n",
    "    print(f\"\\nTop 5 Models for Qubit {qubit}:\")\n",
    "    for model_id, test_loss in sorted_models[:5]:\n",
    "        print(f\"Model: {model_id}, Test Loss: {test_loss}\")\n",
    "\n"
   ]
  },
  {
   "cell_type": "code",
   "execution_count": null,
   "metadata": {},
   "outputs": [],
   "source": []
  }
 ],
 "metadata": {
  "kernelspec": {
   "display_name": "Python 3",
   "language": "python",
   "name": "python3"
  },
  "language_info": {
   "codemirror_mode": {
    "name": "ipython",
    "version": 3
   },
   "file_extension": ".py",
   "mimetype": "text/x-python",
   "name": "python",
   "nbconvert_exporter": "python",
   "pygments_lexer": "ipython3",
   "version": "3.11.3"
  }
 },
 "nbformat": 4,
 "nbformat_minor": 2
}
