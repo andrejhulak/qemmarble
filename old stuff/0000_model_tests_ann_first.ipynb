{
 "cells": [
  {
   "cell_type": "code",
   "execution_count": 1,
   "metadata": {},
   "outputs": [],
   "source": [
    "import torch.optim as optim\n",
    "import torch.nn as nn\n",
    "from qiskit.providers.fake_provider import FakeLima\n",
    "from scripts.data_setup import load_data\n",
    "from scripts.from_circ_to_numpy import operations_to_features, save_to_json, load_from_json\n",
    "from scripts.model_ann_first import create_models, train_and_test_step, save_models, load_models"
   ]
  },
  {
   "cell_type": "code",
   "execution_count": 2,
   "metadata": {},
   "outputs": [],
   "source": [
    "n_qubits = 5 # 5 == n_qubits, default value for now because of FakeLima\n",
    "train_circuits, train_observables, train_ideal_exp_vals, train_noisy_exp_vals, test_circuits, test_observables, test_ideal_exp_vals, test_noisy_exp_vals = load_data('data/circuits/data_small_1')"
   ]
  },
  {
   "cell_type": "code",
   "execution_count": 3,
   "metadata": {},
   "outputs": [],
   "source": [
    "backend = FakeLima()\n",
    "n_qubits = 5"
   ]
  },
  {
   "cell_type": "code",
   "execution_count": 4,
   "metadata": {},
   "outputs": [],
   "source": [
    "X_train, y_train, X_test, y_test = load_from_json('data/features/data_small_1')"
   ]
  },
  {
   "cell_type": "code",
   "execution_count": 5,
   "metadata": {},
   "outputs": [],
   "source": [
    "# specify these :)\n",
    "sequence_input_size = 7\n",
    "sequence_hidden_size = 2\n",
    "sequence_num_layers = 1\n",
    "sequence_model_type = 'LSTM'\n",
    "sequence_dropout = 0\n",
    "ann_hidden_layers = 2\n",
    "ann_hidden_units = 64\n",
    "ann_dropout = 0.1\n",
    "first_ann_hidden_layers = 2\n",
    "first_ann_dropout = 0\n",
    "noisy_first = True\n",
    "\n",
    "sequence_model, ann, first_ann = create_models(sequence_input_size, \n",
    "                                                sequence_hidden_size, \n",
    "                                                sequence_num_layers, \n",
    "                                                sequence_model_type, \n",
    "                                                sequence_dropout, \n",
    "                                                ann_hidden_layers, \n",
    "                                                ann_hidden_units, \n",
    "                                                ann_dropout, \n",
    "                                                first_ann_hidden_layers=first_ann_hidden_layers,\n",
    "                                                first_ann_p_dropout=first_ann_dropout,\n",
    "                                                noisy_first=noisy_first)\n",
    "\n",
    "first_ann_config = {\n",
    "    \"hidden_layers\": first_ann_hidden_layers,\n",
    "    \"dropout\": first_ann_dropout,\n",
    "}\n",
    "\n",
    "sequence_config = { \n",
    "    \"input_size\": sequence_input_size,\n",
    "    \"hidden_size\": sequence_hidden_size,\n",
    "    \"num_layers\": sequence_num_layers,\n",
    "    \"model_type\": sequence_model_type,\n",
    "    \"dropout\": sequence_dropout\n",
    "}\n",
    "\n",
    "ann_config = {\n",
    "    \"hidden_layers\": ann_hidden_layers,\n",
    "    \"hidden_units\": ann_hidden_units,\n",
    "    \"dropout\": ann_dropout,\n",
    "    \"noisy_first\": noisy_first\n",
    "}"
   ]
  },
  {
   "cell_type": "code",
   "execution_count": 6,
   "metadata": {},
   "outputs": [
    {
     "data": {
      "application/vnd.jupyter.widget-view+json": {
       "model_id": "9e45cea1f52a49ccaf64de5b8f81acda",
       "version_major": 2,
       "version_minor": 0
      },
      "text/plain": [
       "  0%|          | 0/5 [00:00<?, ?it/s]"
      ]
     },
     "metadata": {},
     "output_type": "display_data"
    },
    {
     "name": "stdout",
     "output_type": "stream",
     "text": [
      "Epoch 1/5, train loss: 1.0676, test_loss: 0.5102\n",
      "Epoch 2/5, train loss: 0.3708, test_loss: 0.2755\n",
      "Epoch 3/5, train loss: 0.3330, test_loss: 0.2272\n",
      "Epoch 4/5, train loss: 0.3006, test_loss: 0.2315\n",
      "Epoch 5/5, train loss: 0.3054, test_loss: 0.2232\n"
     ]
    }
   ],
   "source": [
    "loss_fn = nn.MSELoss() # leave for now\n",
    "optimizer = optim.Adam(list(ann.parameters()) + list(sequence_model.parameters()) + list(first_ann.parameters()), lr=0.0001)\n",
    "\n",
    "num_epochs = 5\n",
    "train_and_test_step(sequence_model, ann, first_ann, loss_fn, optimizer, X_train, train_noisy_exp_vals, y_train, X_test, test_noisy_exp_vals, y_test, num_epochs, noisy_first=noisy_first)"
   ]
  },
  {
   "cell_type": "code",
   "execution_count": 7,
   "metadata": {},
   "outputs": [
    {
     "name": "stdout",
     "output_type": "stream",
     "text": [
      "Models and configurations saved successfully.\n"
     ]
    }
   ],
   "source": [
    "save_models(sequence_model=sequence_model,\n",
    "            ann=ann,\n",
    "            first_ann=first_ann,\n",
    "            sequence_config=sequence_config, \n",
    "            ann_config=ann_config,\n",
    "            first_ann_config=first_ann_config,\n",
    "            save_dir='data/models/model_test_3')"
   ]
  },
  {
   "cell_type": "code",
   "execution_count": 8,
   "metadata": {},
   "outputs": [
    {
     "name": "stdout",
     "output_type": "stream",
     "text": [
      "Models and configurations loaded successfully.\n"
     ]
    }
   ],
   "source": [
    "sequence_model, ann, first_ann = load_models('data/models/model_test_3')"
   ]
  },
  {
   "cell_type": "code",
   "execution_count": null,
   "metadata": {},
   "outputs": [],
   "source": []
  }
 ],
 "metadata": {
  "kernelspec": {
   "display_name": "Python 3",
   "language": "python",
   "name": "python3"
  },
  "language_info": {
   "codemirror_mode": {
    "name": "ipython",
    "version": 3
   },
   "file_extension": ".py",
   "mimetype": "text/x-python",
   "name": "python",
   "nbconvert_exporter": "python",
   "pygments_lexer": "ipython3",
   "version": "3.11.3"
  }
 },
 "nbformat": 4,
 "nbformat_minor": 2
}
